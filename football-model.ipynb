{
 "cells": [
  {
   "cell_type": "markdown",
   "id": "ad7c53fc-b421-41d6-906e-d960809ad477",
   "metadata": {},
   "source": [
    "## players/teams with a top/lowest number of goals scored/conceded in a single season"
   ]
  },
  {
   "cell_type": "markdown",
   "id": "bc233051-2363-4657-8000-ae3c1a1bce24",
   "metadata": {},
   "source": [
    "## compare leagues/seasons for total number of goals "
   ]
  },
  {
   "cell_type": "code",
   "execution_count": null,
   "id": "40c72478-2993-402d-b994-6b1b3e03ac0b",
   "metadata": {},
   "outputs": [],
   "source": [
    "## Add the same set of features for each player but grouped for the team"
   ]
  }
 ],
 "metadata": {
  "kernelspec": {
   "display_name": "Python 3 (ipykernel)",
   "language": "python",
   "name": "python3"
  },
  "language_info": {
   "codemirror_mode": {
    "name": "ipython",
    "version": 3
   },
   "file_extension": ".py",
   "mimetype": "text/x-python",
   "name": "python",
   "nbconvert_exporter": "python",
   "pygments_lexer": "ipython3",
   "version": "3.9.13"
  }
 },
 "nbformat": 4,
 "nbformat_minor": 5
}
