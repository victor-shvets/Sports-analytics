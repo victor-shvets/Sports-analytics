{
 "cells": [
  {
   "cell_type": "markdown",
   "id": "8f86eeee-fdbd-4cd5-bbc6-f56f9295f2d4",
   "metadata": {},
   "source": [
    "# Modeling\n",
    "\n",
    "This notebook will be used for modeling."
   ]
  },
  {
   "cell_type": "markdown",
   "id": "6297544e-4937-4cb6-bc23-cf843e79eb15",
   "metadata": {},
   "source": [
    "# Libraries"
   ]
  },
  {
   "cell_type": "code",
   "execution_count": 127,
   "id": "4bed7559-5426-4d09-a898-9f20868c7794",
   "metadata": {},
   "outputs": [],
   "source": [
    "from sklearn.linear_model import LinearRegression\n",
    "from sklearn.linear_model import SGDRegressor\n",
    "from sklearn.model_selection import train_test_split\n",
    "from sklearn.dummy import DummyRegressor\n",
    "from sklearn.preprocessing import StandardScaler\n",
    "from sklearn.preprocessing import MinMaxScaler\n",
    "import pandas as pd\n",
    "import time\n",
    "import seaborn as sns\n",
    "import numpy as np\n",
    "# from pandasql import sqldf\n",
    "# from statsmodels.stats.outliers_influence import variance_inflation_factor\n",
    "# import glob\n",
    "# import matplotlib.pyplot as plt\n",
    "# import math\n",
    "# import statsmodels.api as sm"
   ]
  },
  {
   "cell_type": "markdown",
   "id": "ba70872d-c7ed-4ce7-b5a7-0490d37bd0b0",
   "metadata": {},
   "source": [
    "# Functions"
   ]
  },
  {
   "cell_type": "code",
   "execution_count": 128,
   "id": "ecf64078-2d26-4751-b779-05b04f1f8680",
   "metadata": {},
   "outputs": [],
   "source": [
    "class model():\n",
    "    \n",
    "    '''\n",
    "    The class is used to repeat the standard tasks associated with the model\n",
    "    '''\n",
    "    \n",
    "    def __init__(self, modelType, df, scale):\n",
    "        \n",
    "        '''\n",
    "        Initialize the model, defines X and y, split train and test\n",
    "        \n",
    "        modelType - defines the model class\n",
    "        df - the data frame\n",
    "        '''\n",
    "        \n",
    "        # Define the target\n",
    "        self.y = df['goals_total']\n",
    "\n",
    "        # Define the features\n",
    "        self.X = df.drop(['goals_total'], axis=1)\n",
    "        \n",
    "        # Split train and test\n",
    "        self.X_train, self.X_test, self.y_train, self.y_test = train_test_split(self.X, self.y, test_size=0.2, random_state=7)\n",
    "        \n",
    "        # Scale\n",
    "        if scale:\n",
    "            scaler = StandardScaler()\n",
    "            self.X_train = scaler.fit_transform(self.X_train)\n",
    "            self.X_test = scaler.transform(self.X_test)\n",
    "\n",
    "        self.modelType = modelType\n",
    "    \n",
    "    def fit(self):\n",
    "        \n",
    "        '''\n",
    "        Fit the model\n",
    "        '''\n",
    "    \n",
    "        startTime = time.time()\n",
    "        self.modelType.fit(self.X_train, self.y_train)\n",
    "        self.learnTime = round(time.time() - startTime, 4)\n",
    "        \n",
    "    def predict(self):\n",
    "        \n",
    "        '''\n",
    "        Predict using the model\n",
    "        '''\n",
    "        \n",
    "        startTime = time.time()\n",
    "        model_prediction_train = self.modelType.predict(self.X_train)\n",
    "        model_prediction_test = self.modelType.predict(self.X_test)\n",
    "        self.predictTime = round(time.time() - startTime, 4)\n",
    "        \n",
    "    def score(self, type):\n",
    "        \n",
    "        '''\n",
    "        Returns the score\n",
    "        \n",
    "        type - either train or test\n",
    "        '''\n",
    "        \n",
    "        if type == 'train':\n",
    "            return round(self.modelType.score(self.X_train, self.y_train), 4)\n",
    "        else:\n",
    "            return round(self.modelType.score(self.X_test, self.y_test), 4)\n",
    "        \n",
    "    def save(self, index):\n",
    "        \n",
    "        '''\n",
    "        Save into the summary data frame\n",
    "        \n",
    "        index - index value of the row\n",
    "        '''\n",
    "        \n",
    "        dfModelSummary.loc['train score', index] = round(self.modelType.score(self.X_train, self.y_train), 4)\n",
    "        dfModelSummary.loc['test score', index] = round(self.modelType.score(self.X_test, self.y_test), 4)\n",
    "        \n",
    "        dfModelSummary.loc['learning time', index] = self.learnTime\n",
    "        dfModelSummary.loc['prediction time', index] = self.predictTime\n",
    "        \n",
    "    def coef(self):\n",
    "        return self.modelType.coef_"
   ]
  },
  {
   "cell_type": "markdown",
   "id": "1f6c8575-5b8d-4acf-aa49-5bb8fae64025",
   "metadata": {},
   "source": [
    "# Initialization"
   ]
  },
  {
   "cell_type": "code",
   "execution_count": 129,
   "id": "05569728-75b0-4923-b07d-9bb1110a51e6",
   "metadata": {},
   "outputs": [],
   "source": [
    "# Display all columns\n",
    "pd.set_option('display.max_columns', None)\n",
    "\n",
    "# Intialize the summary data frame\n",
    "indexSummary = ['number of features','scaling','transformation','hyper-parameters tuning','train score','test score',\\\n",
    "              'learning time','prediction time','other changes']\n",
    "\n",
    "dfModelSummary = pd.DataFrame(index=indexSummary)"
   ]
  },
  {
   "cell_type": "markdown",
   "id": "48209d94-3ee9-475f-94b1-f49cd48fa7f4",
   "metadata": {},
   "source": [
    "# Load from files"
   ]
  },
  {
   "cell_type": "code",
   "execution_count": 130,
   "id": "4c3fd9fb-b893-415d-9c76-43ab6f54d775",
   "metadata": {},
   "outputs": [],
   "source": [
    "dfFootballML = pd.read_csv('data/football_ml.csv')\n",
    "dfFootballMLBench = pd.read_csv('data/football_ml_bench.csv')"
   ]
  },
  {
   "cell_type": "markdown",
   "id": "faa1ffa7-e7e7-402c-9110-23a31efe00ee",
   "metadata": {},
   "source": [
    "# Modeling\n",
    "\n",
    "I will try to use differnet models, features, approaches. I will start building from the basic to more advanced."
   ]
  },
  {
   "cell_type": "code",
   "execution_count": 131,
   "id": "02dfe57c-4522-4c8d-9bf0-830decde9d7f",
   "metadata": {},
   "outputs": [
    {
     "data": {
      "text/html": [
       "<div>\n",
       "<style scoped>\n",
       "    .dataframe tbody tr th:only-of-type {\n",
       "        vertical-align: middle;\n",
       "    }\n",
       "\n",
       "    .dataframe tbody tr th {\n",
       "        vertical-align: top;\n",
       "    }\n",
       "\n",
       "    .dataframe thead th {\n",
       "        text-align: right;\n",
       "    }\n",
       "</style>\n",
       "<table border=\"1\" class=\"dataframe\">\n",
       "  <thead>\n",
       "    <tr style=\"text-align: right;\">\n",
       "      <th></th>\n",
       "    </tr>\n",
       "  </thead>\n",
       "  <tbody>\n",
       "    <tr>\n",
       "      <th>number of features</th>\n",
       "    </tr>\n",
       "    <tr>\n",
       "      <th>scaling</th>\n",
       "    </tr>\n",
       "    <tr>\n",
       "      <th>transformation</th>\n",
       "    </tr>\n",
       "    <tr>\n",
       "      <th>hyper-parameters tuning</th>\n",
       "    </tr>\n",
       "    <tr>\n",
       "      <th>train score</th>\n",
       "    </tr>\n",
       "    <tr>\n",
       "      <th>test score</th>\n",
       "    </tr>\n",
       "    <tr>\n",
       "      <th>learning time</th>\n",
       "    </tr>\n",
       "    <tr>\n",
       "      <th>prediction time</th>\n",
       "    </tr>\n",
       "    <tr>\n",
       "      <th>other changes</th>\n",
       "    </tr>\n",
       "  </tbody>\n",
       "</table>\n",
       "</div>"
      ],
      "text/plain": [
       "Empty DataFrame\n",
       "Columns: []\n",
       "Index: [number of features, scaling, transformation, hyper-parameters tuning, train score, test score, learning time, prediction time, other changes]"
      ]
     },
     "execution_count": 131,
     "metadata": {},
     "output_type": "execute_result"
    }
   ],
   "source": [
    "dfModelSummary"
   ]
  },
  {
   "cell_type": "markdown",
   "id": "e1f8aac4-4f47-485a-8db8-3a4cf503b6ed",
   "metadata": {
    "jp-MarkdownHeadingCollapsed": true,
    "tags": []
   },
   "source": [
    "## Dummy regressor\n",
    "\n",
    "Very simple model justs to create a baseline."
   ]
  },
  {
   "cell_type": "markdown",
   "id": "bc55687b-4915-4023-b265-41da3f2ebc4e",
   "metadata": {
    "tags": []
   },
   "source": [
    "### 0th iteration"
   ]
  },
  {
   "cell_type": "markdown",
   "id": "7a8514ff-0f4c-4c8d-86d2-da125481a6c4",
   "metadata": {},
   "source": [
    "Run the model"
   ]
  },
  {
   "cell_type": "code",
   "execution_count": 132,
   "id": "735542dc-ebe9-4d35-98f4-9162dd5f14b1",
   "metadata": {},
   "outputs": [],
   "source": [
    "# Build the model\n",
    "DummyRegressionModel = model(DummyRegressor(strategy=\"quantile\", quantile=0.5), dfFootballML, False)\n",
    "\n",
    "# Fit the model\n",
    "DummyRegressionModel.fit()\n",
    "\n",
    "# Predict based on the model\n",
    "DummyRegressionModel.predict()"
   ]
  },
  {
   "cell_type": "markdown",
   "id": "910cdb18-61bc-40e1-9e80-4ebcf79ef08b",
   "metadata": {},
   "source": [
    "Evaluate the results"
   ]
  },
  {
   "cell_type": "code",
   "execution_count": 133,
   "id": "2d61ab8f-4597-45de-8fbb-4d4d61723827",
   "metadata": {},
   "outputs": [
    {
     "name": "stdout",
     "output_type": "stream",
     "text": [
      "Train score: -0.2004\n",
      "Test score: -0.1943\n"
     ]
    }
   ],
   "source": [
    "print(f'Train score: {DummyRegressionModel.score(\"train\")}')\n",
    "print(f'Test score: {DummyRegressionModel.score(\"test\")}')"
   ]
  },
  {
   "cell_type": "markdown",
   "id": "97d36b1f-e613-4bac-a5c1-51e2847a47f9",
   "metadata": {
    "tags": []
   },
   "source": [
    "#### Conclusion\n",
    "\n",
    "> - The model is very basic and can't even be used as a base one. I will use a Linear Regression as a base model."
   ]
  },
  {
   "cell_type": "markdown",
   "id": "156c0fdb-39be-4fbf-963b-14bc006da21a",
   "metadata": {
    "tags": []
   },
   "source": [
    "## Linear regression"
   ]
  },
  {
   "cell_type": "markdown",
   "id": "c5a64dff-6c2f-4be2-af5c-c67cac59d9b2",
   "metadata": {},
   "source": [
    "### 1th iteration\n",
    "\n",
    "The initial run."
   ]
  },
  {
   "cell_type": "markdown",
   "id": "5f7e52cf-dadf-46f8-82b2-a9e13d9b7085",
   "metadata": {},
   "source": [
    "Define the summary parameters"
   ]
  },
  {
   "cell_type": "code",
   "execution_count": 134,
   "id": "6c6dfb50-5030-4869-8cc5-fe45d8c9d30b",
   "metadata": {},
   "outputs": [],
   "source": [
    "modelSummary = 'Linear regression'\n",
    "\n",
    "modelVersion = '1.0'\n",
    "\n",
    "dfModelSummary.loc['number of features', modelSummary + ' ' + modelVersion] = dfFootballML.shape[1] - 1\n",
    "\n",
    "dfModelSummary.loc['scaling', modelSummary + ' ' + modelVersion] = '-'\n",
    "\n",
    "dfModelSummary.loc['transformation', modelSummary + ' ' + modelVersion] = '-'\n",
    "\n",
    "dfModelSummary.loc['hyper-parameters tuning', modelSummary + ' ' + modelVersion] = '-'"
   ]
  },
  {
   "cell_type": "markdown",
   "id": "f3c8b209-52cc-4895-bb34-6949cd21e05e",
   "metadata": {},
   "source": [
    "Run the model"
   ]
  },
  {
   "cell_type": "code",
   "execution_count": 135,
   "id": "a8bed9cd-ef9b-4439-80d2-40aa6a2a8a25",
   "metadata": {},
   "outputs": [],
   "source": [
    "# Build the model\n",
    "LinearRegressionModel = model(LinearRegression(), dfFootballML, False)\n",
    "\n",
    "# Fit the model\n",
    "LinearRegressionModel.fit()\n",
    "\n",
    "# Predict based on the model\n",
    "LinearRegressionModel.predict()\n",
    "\n",
    "# Save the results\n",
    "LinearRegressionModel.save(modelSummary + ' ' + modelVersion)"
   ]
  },
  {
   "cell_type": "markdown",
   "id": "6c9c6003-821a-4015-9c02-c27240829ea0",
   "metadata": {
    "tags": []
   },
   "source": [
    "Evaluate the results"
   ]
  },
  {
   "cell_type": "code",
   "execution_count": 136,
   "id": "007a9175-14b6-4e98-a74b-78f429ca8e48",
   "metadata": {},
   "outputs": [
    {
     "data": {
      "text/html": [
       "<div>\n",
       "<style scoped>\n",
       "    .dataframe tbody tr th:only-of-type {\n",
       "        vertical-align: middle;\n",
       "    }\n",
       "\n",
       "    .dataframe tbody tr th {\n",
       "        vertical-align: top;\n",
       "    }\n",
       "\n",
       "    .dataframe thead th {\n",
       "        text-align: right;\n",
       "    }\n",
       "</style>\n",
       "<table border=\"1\" class=\"dataframe\">\n",
       "  <thead>\n",
       "    <tr style=\"text-align: right;\">\n",
       "      <th></th>\n",
       "      <th>Linear regression 1.0</th>\n",
       "    </tr>\n",
       "  </thead>\n",
       "  <tbody>\n",
       "    <tr>\n",
       "      <th>number of features</th>\n",
       "      <td>24.0</td>\n",
       "    </tr>\n",
       "    <tr>\n",
       "      <th>scaling</th>\n",
       "      <td>-</td>\n",
       "    </tr>\n",
       "    <tr>\n",
       "      <th>transformation</th>\n",
       "      <td>-</td>\n",
       "    </tr>\n",
       "    <tr>\n",
       "      <th>hyper-parameters tuning</th>\n",
       "      <td>-</td>\n",
       "    </tr>\n",
       "    <tr>\n",
       "      <th>train score</th>\n",
       "      <td>0.6261</td>\n",
       "    </tr>\n",
       "    <tr>\n",
       "      <th>test score</th>\n",
       "      <td>0.6316</td>\n",
       "    </tr>\n",
       "    <tr>\n",
       "      <th>learning time</th>\n",
       "      <td>0.0289</td>\n",
       "    </tr>\n",
       "    <tr>\n",
       "      <th>prediction time</th>\n",
       "      <td>0.0036</td>\n",
       "    </tr>\n",
       "    <tr>\n",
       "      <th>other changes</th>\n",
       "      <td>NaN</td>\n",
       "    </tr>\n",
       "  </tbody>\n",
       "</table>\n",
       "</div>"
      ],
      "text/plain": [
       "                        Linear regression 1.0\n",
       "number of features                       24.0\n",
       "scaling                                     -\n",
       "transformation                              -\n",
       "hyper-parameters tuning                     -\n",
       "train score                            0.6261\n",
       "test score                             0.6316\n",
       "learning time                          0.0289\n",
       "prediction time                        0.0036\n",
       "other changes                             NaN"
      ]
     },
     "execution_count": 136,
     "metadata": {},
     "output_type": "execute_result"
    }
   ],
   "source": [
    "dfModelSummary"
   ]
  },
  {
   "cell_type": "markdown",
   "id": "2d348626-b99a-48ca-8a6f-e9bd6055416f",
   "metadata": {},
   "source": [
    "#### Conclusion\n",
    "\n",
    "> - The very first run, nothing to compare with.\n",
    "> - The model explains at least 62% of the data. Not bad, let's try to improve it."
   ]
  },
  {
   "cell_type": "markdown",
   "id": "c09b9a1e-d19b-4de0-abfe-3a780fba2a0e",
   "metadata": {},
   "source": [
    "### 2nd iteration\n",
    "\n",
    "Let's reduce the number of columns to see if we can get similar results."
   ]
  },
  {
   "cell_type": "markdown",
   "id": "554fba33-8efd-4c92-9ca5-86b0912c61c5",
   "metadata": {},
   "source": [
    "#### Remove the features we are not interested in\n",
    "\n",
    "To do that I will check the coeficients"
   ]
  },
  {
   "cell_type": "code",
   "execution_count": 137,
   "id": "ad2eace1-c9e6-412d-b064-86e381cec04a",
   "metadata": {},
   "outputs": [
    {
     "name": "stdout",
     "output_type": "stream",
     "text": [
      "To score 1 goal a plyer needs to increase/descrease player_age by 213\n",
      "To score 1 goal a plyer needs to increase/descrease player_height by 440\n",
      "To score 1 goal a plyer needs to increase/descrease games_minutes by 1116\n",
      "To score 1 goal a plyer needs to increase/descrease substitutes_in by 39\n",
      "To score 1 goal a plyer needs to increase/descrease substitutes_out by 7\n",
      "To score 1 goal a plyer needs to increase/descrease substitutes_bench by -54\n",
      "To score 1 goal a plyer needs to increase/descrease shots_on by 3\n",
      "To score 1 goal a plyer needs to increase/descrease goals_assists by 11\n",
      "To score 1 goal a plyer needs to increase/descrease passes_total by -920\n",
      "To score 1 goal a plyer needs to increase/descrease passes_key by -32\n",
      "To score 1 goal a plyer needs to increase/descrease passes_accuracy by -244\n",
      "To score 1 goal a plyer needs to increase/descrease tackles_total by -164\n",
      "To score 1 goal a plyer needs to increase/descrease tackles_blocks by 88\n",
      "To score 1 goal a plyer needs to increase/descrease tackles_interceptions by 798\n",
      "To score 1 goal a plyer needs to increase/descrease duels_won by -1544\n",
      "To score 1 goal a plyer needs to increase/descrease dribbles_success by -59\n",
      "To score 1 goal a plyer needs to increase/descrease fouls_drawn by -86\n",
      "To score 1 goal a plyer needs to increase/descrease fouls_committed by -50\n",
      "To score 1 goal a plyer needs to increase/descrease cards_yellow by 138\n",
      "To score 1 goal a plyer needs to increase/descrease cards_yellowred by -36\n",
      "To score 1 goal a plyer needs to increase/descrease cards_red by -88\n",
      "To score 1 goal a plyer needs to increase/descrease penalty_won by 4\n",
      "To score 1 goal a plyer needs to increase/descrease penalty_missed by 2\n",
      "To score 1 goal a plyer needs to increase/descrease venue_capacity by 120705\n"
     ]
    }
   ],
   "source": [
    "for i, j in zip(LinearRegressionModel.X.columns, LinearRegressionModel.coef()):\n",
    "    print(f'To score 1 goal a plyer needs to increase/descrease {i} by {round(1/j)}')"
   ]
  },
  {
   "cell_type": "markdown",
   "id": "866321b8-46ca-40c5-877c-51fddfe34bcc",
   "metadata": {},
   "source": [
    "I will remove the following features:\n",
    "\n",
    "- **player_age, player_height, venue_capacity** - numbers don't make sense, they are too high and maybe can be transformed.\n",
    "- **passes_accuracy** - numbers don't make sense, it is percentage, needs to be transformed.\n",
    "- **penalty_won, penalty_missed** - the penalty is directly related to goals, it is obvious information."
   ]
  },
  {
   "cell_type": "code",
   "execution_count": 138,
   "id": "b0617f7a-efb6-4411-9a96-574ba3ac25c8",
   "metadata": {},
   "outputs": [],
   "source": [
    "# Saved for the future transformation\n",
    "dfFootballMLBench = pd.concat([dfFootballMLBench, dfFootballML[['player_age','player_height','passes_accuracy','venue_capacity',\\\n",
    "                                                              'penalty_won','penalty_missed']]], axis=1)\n",
    "\n",
    "dfFootballML = dfFootballML.drop(['player_age','player_height','passes_accuracy','venue_capacity','penalty_won','penalty_missed'\\\n",
    "                                 ], axis=1)"
   ]
  },
  {
   "cell_type": "markdown",
   "id": "cb8f4cd5-ec99-4d7f-a0f7-0cc5013579d0",
   "metadata": {},
   "source": [
    "Define the summary parameters"
   ]
  },
  {
   "cell_type": "code",
   "execution_count": 139,
   "id": "5f978b00-2051-4573-9205-fa7c0f05672e",
   "metadata": {},
   "outputs": [],
   "source": [
    "modelSummary = 'Linear regression'\n",
    "\n",
    "modelVersion = '1.1'\n",
    "\n",
    "dfModelSummary.loc['number of features',modelSummary + ' ' + modelVersion] = dfFootballML.shape[1] - 1\n",
    "\n",
    "dfModelSummary.loc['scaling',modelSummary + ' ' + modelVersion] = '-'\n",
    "\n",
    "dfModelSummary.loc['transformation',modelSummary + ' ' + modelVersion] = '-'\n",
    "\n",
    "dfModelSummary.loc['hyper-parameters tuning',modelSummary + ' ' + modelVersion] = '-'"
   ]
  },
  {
   "cell_type": "markdown",
   "id": "954b85ba-7a25-487e-9796-7021b83bccf9",
   "metadata": {},
   "source": [
    "Run the model"
   ]
  },
  {
   "cell_type": "code",
   "execution_count": 140,
   "id": "361c3140-876a-433c-9790-f17333aac171",
   "metadata": {},
   "outputs": [],
   "source": [
    "# Build the model\n",
    "LinearRegressionModel = model(LinearRegression(), dfFootballML, False)\n",
    "\n",
    "# Fit the model\n",
    "LinearRegressionModel.fit()\n",
    "\n",
    "# Predict based on the model\n",
    "LinearRegressionModel.predict()\n",
    "\n",
    "# Save the results\n",
    "LinearRegressionModel.save(modelSummary + ' ' + modelVersion)"
   ]
  },
  {
   "cell_type": "markdown",
   "id": "95f0a7d1-cb05-4e80-a18a-14893927c81b",
   "metadata": {},
   "source": [
    "Evaluate the results"
   ]
  },
  {
   "cell_type": "code",
   "execution_count": 141,
   "id": "f351ce97-e1ca-4c01-8715-aeb648c0802a",
   "metadata": {},
   "outputs": [
    {
     "data": {
      "text/html": [
       "<div>\n",
       "<style scoped>\n",
       "    .dataframe tbody tr th:only-of-type {\n",
       "        vertical-align: middle;\n",
       "    }\n",
       "\n",
       "    .dataframe tbody tr th {\n",
       "        vertical-align: top;\n",
       "    }\n",
       "\n",
       "    .dataframe thead th {\n",
       "        text-align: right;\n",
       "    }\n",
       "</style>\n",
       "<table border=\"1\" class=\"dataframe\">\n",
       "  <thead>\n",
       "    <tr style=\"text-align: right;\">\n",
       "      <th></th>\n",
       "      <th>Linear regression 1.0</th>\n",
       "      <th>Linear regression 1.1</th>\n",
       "    </tr>\n",
       "  </thead>\n",
       "  <tbody>\n",
       "    <tr>\n",
       "      <th>number of features</th>\n",
       "      <td>24.0</td>\n",
       "      <td>18.0</td>\n",
       "    </tr>\n",
       "    <tr>\n",
       "      <th>scaling</th>\n",
       "      <td>-</td>\n",
       "      <td>-</td>\n",
       "    </tr>\n",
       "    <tr>\n",
       "      <th>transformation</th>\n",
       "      <td>-</td>\n",
       "      <td>-</td>\n",
       "    </tr>\n",
       "    <tr>\n",
       "      <th>hyper-parameters tuning</th>\n",
       "      <td>-</td>\n",
       "      <td>-</td>\n",
       "    </tr>\n",
       "    <tr>\n",
       "      <th>train score</th>\n",
       "      <td>0.6261</td>\n",
       "      <td>0.6211</td>\n",
       "    </tr>\n",
       "    <tr>\n",
       "      <th>test score</th>\n",
       "      <td>0.6316</td>\n",
       "      <td>0.6264</td>\n",
       "    </tr>\n",
       "    <tr>\n",
       "      <th>learning time</th>\n",
       "      <td>0.0289</td>\n",
       "      <td>0.0094</td>\n",
       "    </tr>\n",
       "    <tr>\n",
       "      <th>prediction time</th>\n",
       "      <td>0.0036</td>\n",
       "      <td>0.0022</td>\n",
       "    </tr>\n",
       "    <tr>\n",
       "      <th>other changes</th>\n",
       "      <td>NaN</td>\n",
       "      <td>NaN</td>\n",
       "    </tr>\n",
       "  </tbody>\n",
       "</table>\n",
       "</div>"
      ],
      "text/plain": [
       "                        Linear regression 1.0 Linear regression 1.1\n",
       "number of features                       24.0                  18.0\n",
       "scaling                                     -                     -\n",
       "transformation                              -                     -\n",
       "hyper-parameters tuning                     -                     -\n",
       "train score                            0.6261                0.6211\n",
       "test score                             0.6316                0.6264\n",
       "learning time                          0.0289                0.0094\n",
       "prediction time                        0.0036                0.0022\n",
       "other changes                             NaN                   NaN"
      ]
     },
     "execution_count": 141,
     "metadata": {},
     "output_type": "execute_result"
    }
   ],
   "source": [
    "dfModelSummary"
   ]
  },
  {
   "cell_type": "markdown",
   "id": "bfd15835-6345-4a16-acd9-6418da751683",
   "metadata": {},
   "source": [
    "#### Conclusion\n",
    "\n",
    "> - Analyzing the coefficients I reduced the number of features.\n",
    "> - Removing 6 features didn't impact the result. We can continue with the same set of features."
   ]
  },
  {
   "cell_type": "markdown",
   "id": "c92d5a13-35b7-4d0a-9da9-447eaf6f0a68",
   "metadata": {},
   "source": [
    "### 3rd iteration\n",
    "\n",
    "I will perform the scaling of the features to improve the result."
   ]
  },
  {
   "cell_type": "markdown",
   "id": "d2e2e322-da47-4ddd-b362-11dbf1634d98",
   "metadata": {},
   "source": [
    "Define the summary parameters"
   ]
  },
  {
   "cell_type": "code",
   "execution_count": 142,
   "id": "2f60ae00-4fb9-47a1-80ba-59b321a93db4",
   "metadata": {},
   "outputs": [],
   "source": [
    "modelSummary = 'Linear regression'\n",
    "\n",
    "modelVersion = '1.2'\n",
    "\n",
    "dfModelSummary.loc['number of features',modelSummary + ' ' + modelVersion] = dfFootballML.shape[1] - 1\n",
    "\n",
    "dfModelSummary.loc['scaling',modelSummary + ' ' + modelVersion] = 'Yes'\n",
    "\n",
    "dfModelSummary.loc['transformation',modelSummary + ' ' + modelVersion] = '-'\n",
    "\n",
    "dfModelSummary.loc['hyper-parameters tuning',modelSummary + ' ' + modelVersion] = '-'"
   ]
  },
  {
   "cell_type": "markdown",
   "id": "9572c2f7-df2f-417e-b7c9-4f8e1ed8c5d6",
   "metadata": {},
   "source": [
    "Run the model"
   ]
  },
  {
   "cell_type": "code",
   "execution_count": 143,
   "id": "bb08c1cf-20b1-4424-acbb-aa1e6326c82a",
   "metadata": {},
   "outputs": [],
   "source": [
    "# Build the model\n",
    "LinearRegressionModel = model(LinearRegression(), dfFootballML, True)\n",
    "\n",
    "# Fit the model\n",
    "LinearRegressionModel.fit()\n",
    "\n",
    "# Predict based on the model\n",
    "LinearRegressionModel.predict()\n",
    "\n",
    "# Save the results\n",
    "LinearRegressionModel.save(modelSummary + ' ' + modelVersion)"
   ]
  },
  {
   "cell_type": "markdown",
   "id": "d4036e3f-0e0f-445f-9a29-209c89718676",
   "metadata": {},
   "source": [
    "Evaluate the results"
   ]
  },
  {
   "cell_type": "code",
   "execution_count": 144,
   "id": "01be0ce4-4be6-4bd2-8e77-2e65093dc96e",
   "metadata": {},
   "outputs": [
    {
     "data": {
      "text/html": [
       "<div>\n",
       "<style scoped>\n",
       "    .dataframe tbody tr th:only-of-type {\n",
       "        vertical-align: middle;\n",
       "    }\n",
       "\n",
       "    .dataframe tbody tr th {\n",
       "        vertical-align: top;\n",
       "    }\n",
       "\n",
       "    .dataframe thead th {\n",
       "        text-align: right;\n",
       "    }\n",
       "</style>\n",
       "<table border=\"1\" class=\"dataframe\">\n",
       "  <thead>\n",
       "    <tr style=\"text-align: right;\">\n",
       "      <th></th>\n",
       "      <th>Linear regression 1.0</th>\n",
       "      <th>Linear regression 1.1</th>\n",
       "      <th>Linear regression 1.2</th>\n",
       "    </tr>\n",
       "  </thead>\n",
       "  <tbody>\n",
       "    <tr>\n",
       "      <th>number of features</th>\n",
       "      <td>24.0</td>\n",
       "      <td>18.0</td>\n",
       "      <td>18.0</td>\n",
       "    </tr>\n",
       "    <tr>\n",
       "      <th>scaling</th>\n",
       "      <td>-</td>\n",
       "      <td>-</td>\n",
       "      <td>Yes</td>\n",
       "    </tr>\n",
       "    <tr>\n",
       "      <th>transformation</th>\n",
       "      <td>-</td>\n",
       "      <td>-</td>\n",
       "      <td>-</td>\n",
       "    </tr>\n",
       "    <tr>\n",
       "      <th>hyper-parameters tuning</th>\n",
       "      <td>-</td>\n",
       "      <td>-</td>\n",
       "      <td>-</td>\n",
       "    </tr>\n",
       "    <tr>\n",
       "      <th>train score</th>\n",
       "      <td>0.6261</td>\n",
       "      <td>0.6211</td>\n",
       "      <td>0.6211</td>\n",
       "    </tr>\n",
       "    <tr>\n",
       "      <th>test score</th>\n",
       "      <td>0.6316</td>\n",
       "      <td>0.6264</td>\n",
       "      <td>0.6264</td>\n",
       "    </tr>\n",
       "    <tr>\n",
       "      <th>learning time</th>\n",
       "      <td>0.0289</td>\n",
       "      <td>0.0094</td>\n",
       "      <td>0.0126</td>\n",
       "    </tr>\n",
       "    <tr>\n",
       "      <th>prediction time</th>\n",
       "      <td>0.0036</td>\n",
       "      <td>0.0022</td>\n",
       "      <td>0.0007</td>\n",
       "    </tr>\n",
       "    <tr>\n",
       "      <th>other changes</th>\n",
       "      <td>NaN</td>\n",
       "      <td>NaN</td>\n",
       "      <td>NaN</td>\n",
       "    </tr>\n",
       "  </tbody>\n",
       "</table>\n",
       "</div>"
      ],
      "text/plain": [
       "                        Linear regression 1.0 Linear regression 1.1  \\\n",
       "number of features                       24.0                  18.0   \n",
       "scaling                                     -                     -   \n",
       "transformation                              -                     -   \n",
       "hyper-parameters tuning                     -                     -   \n",
       "train score                            0.6261                0.6211   \n",
       "test score                             0.6316                0.6264   \n",
       "learning time                          0.0289                0.0094   \n",
       "prediction time                        0.0036                0.0022   \n",
       "other changes                             NaN                   NaN   \n",
       "\n",
       "                        Linear regression 1.2  \n",
       "number of features                       18.0  \n",
       "scaling                                   Yes  \n",
       "transformation                              -  \n",
       "hyper-parameters tuning                     -  \n",
       "train score                            0.6211  \n",
       "test score                             0.6264  \n",
       "learning time                          0.0126  \n",
       "prediction time                        0.0007  \n",
       "other changes                             NaN  "
      ]
     },
     "execution_count": 144,
     "metadata": {},
     "output_type": "execute_result"
    }
   ],
   "source": [
    "dfModelSummary"
   ]
  },
  {
   "cell_type": "markdown",
   "id": "a30874d1-f159-4e93-9aa2-fa6aada644de",
   "metadata": {},
   "source": [
    "#### Conclusion\n",
    "\n",
    "> - I tried to apply scaling but it returned the same result. Hence we do not need to use scaling for this model."
   ]
  },
  {
   "cell_type": "markdown",
   "id": "78897ba0-eb04-4b66-880a-f507c3f4fed5",
   "metadata": {
    "tags": []
   },
   "source": [
    "## SGD regression"
   ]
  },
  {
   "cell_type": "markdown",
   "id": "da796eb0-91d8-4a39-8eee-35a2a3cfd93e",
   "metadata": {},
   "source": [
    "### 1st iteration\n",
    "\n",
    "I will run the regressor with the default parameters."
   ]
  },
  {
   "cell_type": "markdown",
   "id": "d78cd478-1467-4d7b-a4f8-da6e7d0baaf3",
   "metadata": {},
   "source": [
    "Define the summary parameters"
   ]
  },
  {
   "cell_type": "code",
   "execution_count": 145,
   "id": "bb9cc701-9043-463d-808a-dbcb0e5e1646",
   "metadata": {},
   "outputs": [],
   "source": [
    "modelSummary = 'SGD regression'\n",
    "\n",
    "modelVersion = '2.0'\n",
    "\n",
    "dfModelSummary.loc['number of features',modelSummary + ' ' + modelVersion] = dfFootballML.shape[1] - 1\n",
    "\n",
    "dfModelSummary.loc['scaling',modelSummary + ' ' + modelVersion] = '-'\n",
    "\n",
    "dfModelSummary.loc['transformation',modelSummary + ' ' + modelVersion] = '-'\n",
    "\n",
    "dfModelSummary.loc['hyper-parameters tuning',modelSummary + ' ' + modelVersion] = '-'"
   ]
  },
  {
   "cell_type": "markdown",
   "id": "ea2f3b70-6154-4109-9028-d0165e8ba3d7",
   "metadata": {},
   "source": [
    "Run the model"
   ]
  },
  {
   "cell_type": "code",
   "execution_count": 146,
   "id": "caf22b13-3b97-4d35-916f-c2038ccbf957",
   "metadata": {},
   "outputs": [],
   "source": [
    "# Build the model\n",
    "SGDRegressionModel = model(SGDRegressor(), dfFootballML, True)\n",
    "\n",
    "# Fit the model\n",
    "SGDRegressionModel.fit()\n",
    "\n",
    "# Predict based on the model\n",
    "SGDRegressionModel.predict()\n",
    "\n",
    "# Save the results\n",
    "SGDRegressionModel.save(modelSummary + ' ' + modelVersion)"
   ]
  },
  {
   "cell_type": "markdown",
   "id": "62a549e6-a7ce-4e6d-b4ea-f9a7a86c35f7",
   "metadata": {},
   "source": [
    "Evaluate the results"
   ]
  },
  {
   "cell_type": "code",
   "execution_count": 147,
   "id": "0b7105b8-4d36-4e9d-93a6-c48c8300d898",
   "metadata": {},
   "outputs": [
    {
     "data": {
      "text/html": [
       "<div>\n",
       "<style scoped>\n",
       "    .dataframe tbody tr th:only-of-type {\n",
       "        vertical-align: middle;\n",
       "    }\n",
       "\n",
       "    .dataframe tbody tr th {\n",
       "        vertical-align: top;\n",
       "    }\n",
       "\n",
       "    .dataframe thead th {\n",
       "        text-align: right;\n",
       "    }\n",
       "</style>\n",
       "<table border=\"1\" class=\"dataframe\">\n",
       "  <thead>\n",
       "    <tr style=\"text-align: right;\">\n",
       "      <th></th>\n",
       "      <th>Linear regression 1.0</th>\n",
       "      <th>Linear regression 1.1</th>\n",
       "      <th>Linear regression 1.2</th>\n",
       "      <th>SGD regression 2.0</th>\n",
       "    </tr>\n",
       "  </thead>\n",
       "  <tbody>\n",
       "    <tr>\n",
       "      <th>number of features</th>\n",
       "      <td>24.0</td>\n",
       "      <td>18.0</td>\n",
       "      <td>18.0</td>\n",
       "      <td>18.0</td>\n",
       "    </tr>\n",
       "    <tr>\n",
       "      <th>scaling</th>\n",
       "      <td>-</td>\n",
       "      <td>-</td>\n",
       "      <td>Yes</td>\n",
       "      <td>-</td>\n",
       "    </tr>\n",
       "    <tr>\n",
       "      <th>transformation</th>\n",
       "      <td>-</td>\n",
       "      <td>-</td>\n",
       "      <td>-</td>\n",
       "      <td>-</td>\n",
       "    </tr>\n",
       "    <tr>\n",
       "      <th>hyper-parameters tuning</th>\n",
       "      <td>-</td>\n",
       "      <td>-</td>\n",
       "      <td>-</td>\n",
       "      <td>-</td>\n",
       "    </tr>\n",
       "    <tr>\n",
       "      <th>train score</th>\n",
       "      <td>0.6261</td>\n",
       "      <td>0.6211</td>\n",
       "      <td>0.6211</td>\n",
       "      <td>0.6166</td>\n",
       "    </tr>\n",
       "    <tr>\n",
       "      <th>test score</th>\n",
       "      <td>0.6316</td>\n",
       "      <td>0.6264</td>\n",
       "      <td>0.6264</td>\n",
       "      <td>0.623</td>\n",
       "    </tr>\n",
       "    <tr>\n",
       "      <th>learning time</th>\n",
       "      <td>0.0289</td>\n",
       "      <td>0.0094</td>\n",
       "      <td>0.0126</td>\n",
       "      <td>0.0587</td>\n",
       "    </tr>\n",
       "    <tr>\n",
       "      <th>prediction time</th>\n",
       "      <td>0.0036</td>\n",
       "      <td>0.0022</td>\n",
       "      <td>0.0007</td>\n",
       "      <td>0.0017</td>\n",
       "    </tr>\n",
       "    <tr>\n",
       "      <th>other changes</th>\n",
       "      <td>NaN</td>\n",
       "      <td>NaN</td>\n",
       "      <td>NaN</td>\n",
       "      <td>NaN</td>\n",
       "    </tr>\n",
       "  </tbody>\n",
       "</table>\n",
       "</div>"
      ],
      "text/plain": [
       "                        Linear regression 1.0 Linear regression 1.1  \\\n",
       "number of features                       24.0                  18.0   \n",
       "scaling                                     -                     -   \n",
       "transformation                              -                     -   \n",
       "hyper-parameters tuning                     -                     -   \n",
       "train score                            0.6261                0.6211   \n",
       "test score                             0.6316                0.6264   \n",
       "learning time                          0.0289                0.0094   \n",
       "prediction time                        0.0036                0.0022   \n",
       "other changes                             NaN                   NaN   \n",
       "\n",
       "                        Linear regression 1.2 SGD regression 2.0  \n",
       "number of features                       18.0               18.0  \n",
       "scaling                                   Yes                  -  \n",
       "transformation                              -                  -  \n",
       "hyper-parameters tuning                     -                  -  \n",
       "train score                            0.6211             0.6166  \n",
       "test score                             0.6264              0.623  \n",
       "learning time                          0.0126             0.0587  \n",
       "prediction time                        0.0007             0.0017  \n",
       "other changes                             NaN                NaN  "
      ]
     },
     "execution_count": 147,
     "metadata": {},
     "output_type": "execute_result"
    }
   ],
   "source": [
    "dfModelSummary"
   ]
  },
  {
   "cell_type": "markdown",
   "id": "c72f08f7-207f-4c1c-9c83-5caa2db89532",
   "metadata": {},
   "source": [
    "#### Conclusion\n",
    "\n",
    "> - I got the same results as the linear model. However, this model supports hyper-parameters tunning. Let's apply them."
   ]
  },
  {
   "cell_type": "code",
   "execution_count": null,
   "id": "8aa56a53-2a88-481f-bb02-fadd95d6bc86",
   "metadata": {},
   "outputs": [],
   "source": []
  },
  {
   "cell_type": "markdown",
   "id": "a2f79f43-8461-42f1-aa5e-1755149569ab",
   "metadata": {},
   "source": [
    "## KNN regressor"
   ]
  },
  {
   "cell_type": "markdown",
   "id": "c1f91c88-6663-4f43-b4c7-4283ba20343d",
   "metadata": {},
   "source": [
    "## Decision tree regressor"
   ]
  },
  {
   "cell_type": "markdown",
   "id": "763342ce-6c24-45fa-9d9a-06b47e9d697e",
   "metadata": {},
   "source": [
    "## Random forest"
   ]
  },
  {
   "cell_type": "markdown",
   "id": "0f921422-f089-45fd-b092-cd24bbeea876",
   "metadata": {},
   "source": [
    "## SVN"
   ]
  },
  {
   "cell_type": "markdown",
   "id": "ad7c53fc-b421-41d6-906e-d960809ad477",
   "metadata": {},
   "source": [
    "## players/teams with a top/lowest number of goals scored/conceded in a single season"
   ]
  },
  {
   "cell_type": "markdown",
   "id": "bc233051-2363-4657-8000-ae3c1a1bce24",
   "metadata": {},
   "source": [
    "## compare leagues/seasons for total number of goals "
   ]
  },
  {
   "cell_type": "markdown",
   "id": "91480f05-a8f6-4454-b54a-bb3262aec5f4",
   "metadata": {
    "tags": []
   },
   "source": [
    "## Add the same set of features for each player but grouped for the team"
   ]
  },
  {
   "cell_type": "markdown",
   "id": "48300f98-b49a-41e3-97ea-0772a4611c79",
   "metadata": {},
   "source": [
    "\n",
    "# Other"
   ]
  },
  {
   "cell_type": "code",
   "execution_count": 83,
   "id": "fa754a0d-5e29-4bf1-b108-a7f7998d5a68",
   "metadata": {},
   "outputs": [
    {
     "data": {
      "text/html": [
       "<div>\n",
       "<style scoped>\n",
       "    .dataframe tbody tr th:only-of-type {\n",
       "        vertical-align: middle;\n",
       "    }\n",
       "\n",
       "    .dataframe tbody tr th {\n",
       "        vertical-align: top;\n",
       "    }\n",
       "\n",
       "    .dataframe thead th {\n",
       "        text-align: right;\n",
       "    }\n",
       "</style>\n",
       "<table border=\"1\" class=\"dataframe\">\n",
       "  <thead>\n",
       "    <tr style=\"text-align: right;\">\n",
       "      <th></th>\n",
       "      <th>goals_total</th>\n",
       "      <th>player_age</th>\n",
       "    </tr>\n",
       "  </thead>\n",
       "  <tbody>\n",
       "    <tr>\n",
       "      <th>goals_total</th>\n",
       "      <td>1.000000</td>\n",
       "      <td>0.137204</td>\n",
       "    </tr>\n",
       "    <tr>\n",
       "      <th>player_age</th>\n",
       "      <td>0.137204</td>\n",
       "      <td>1.000000</td>\n",
       "    </tr>\n",
       "  </tbody>\n",
       "</table>\n",
       "</div>"
      ],
      "text/plain": [
       "             goals_total  player_age\n",
       "goals_total     1.000000    0.137204\n",
       "player_age      0.137204    1.000000"
      ]
     },
     "execution_count": 83,
     "metadata": {},
     "output_type": "execute_result"
    }
   ],
   "source": [
    "df1 = pd.concat([dfFootballML[['goals_total']],dfFootballMLBench[['player_age']]**2], axis=1)\n",
    "\n",
    "df1.corr()"
   ]
  },
  {
   "cell_type": "code",
   "execution_count": 75,
   "id": "2d2983cb-6ede-4a48-9c00-ad73a2cdeca5",
   "metadata": {},
   "outputs": [
    {
     "data": {
      "text/plain": [
       "<AxesSubplot:xlabel='player_age', ylabel='goals_total'>"
      ]
     },
     "execution_count": 75,
     "metadata": {},
     "output_type": "execute_result"
    },
    {
     "data": {
      "image/png": "[encoded data removed]",
      "text/plain": [
       "<Figure size 640x480 with 1 Axes>"
      ]
     },
     "metadata": {},
     "output_type": "display_data"
    }
   ],
   "source": [
    "sns.scatterplot(y=dfFootballML['goals_total'],x=dfFootballMLBench['player_age']**2)"
   ]
  },
  {
   "cell_type": "code",
   "execution_count": 72,
   "id": "541175aa-0acb-4877-8387-b7e7d29f8d5e",
   "metadata": {},
   "outputs": [
    {
     "data": {
      "text/plain": [
       "0        6.082763\n",
       "1        5.916080\n",
       "2        5.744563\n",
       "3        4.472136\n",
       "4        4.472136\n",
       "           ...   \n",
       "65856    5.744563\n",
       "65857    5.916080\n",
       "65858    6.164414\n",
       "65859    5.567764\n",
       "65860    5.916080\n",
       "Name: player_age, Length: 65861, dtype: float64"
      ]
     },
     "execution_count": 72,
     "metadata": {},
     "output_type": "execute_result"
    }
   ],
   "source": [
    "np.sqrt(dfFootballMLBench['player_age'])"
   ]
  },
  {
   "cell_type": "code",
   "execution_count": 6,
   "id": "8bc1a813-aad4-45dc-9be9-40a53a9618e4",
   "metadata": {},
   "outputs": [],
   "source": [
    "y = dfFootballML['goals_total']\n",
    "\n",
    "# Define the features\n",
    "X = dfFootballML.drop(['goals_total'], axis=1)\n",
    "\n",
    "X_train, X_test, y_train, y_test = train_test_split(X, y, test_size=0.2, random_state=17)"
   ]
  },
  {
   "cell_type": "code",
   "execution_count": 47,
   "id": "4f28be23-0051-4245-a750-264aa2b5e97a",
   "metadata": {},
   "outputs": [
    {
     "data": {
      "text/html": [
       "<div>\n",
       "<style scoped>\n",
       "    .dataframe tbody tr th:only-of-type {\n",
       "        vertical-align: middle;\n",
       "    }\n",
       "\n",
       "    .dataframe tbody tr th {\n",
       "        vertical-align: top;\n",
       "    }\n",
       "\n",
       "    .dataframe thead th {\n",
       "        text-align: right;\n",
       "    }\n",
       "</style>\n",
       "<table border=\"1\" class=\"dataframe\">\n",
       "  <thead>\n",
       "    <tr style=\"text-align: right;\">\n",
       "      <th></th>\n",
       "      <th>X</th>\n",
       "      <th>y</th>\n",
       "    </tr>\n",
       "  </thead>\n",
       "  <tbody>\n",
       "    <tr>\n",
       "      <th>0</th>\n",
       "      <td>1</td>\n",
       "      <td>2</td>\n",
       "    </tr>\n",
       "    <tr>\n",
       "      <th>1</th>\n",
       "      <td>2</td>\n",
       "      <td>2</td>\n",
       "    </tr>\n",
       "    <tr>\n",
       "      <th>2</th>\n",
       "      <td>3</td>\n",
       "      <td>3</td>\n",
       "    </tr>\n",
       "    <tr>\n",
       "      <th>3</th>\n",
       "      <td>4</td>\n",
       "      <td>3</td>\n",
       "    </tr>\n",
       "    <tr>\n",
       "      <th>4</th>\n",
       "      <td>5</td>\n",
       "      <td>4</td>\n",
       "    </tr>\n",
       "  </tbody>\n",
       "</table>\n",
       "</div>"
      ],
      "text/plain": [
       "   X  y\n",
       "0  1  2\n",
       "1  2  2\n",
       "2  3  3\n",
       "3  4  3\n",
       "4  5  4"
      ]
     },
     "execution_count": 47,
     "metadata": {},
     "output_type": "execute_result"
    }
   ],
   "source": [
    "df = pd.DataFrame({'X':[1,2,3,4,5], 'y':[2,2,3,3,4]})\n",
    "\n",
    "X = df.drop('y', axis=1)\n",
    "\n",
    "y = df['y']\n",
    "\n",
    "X\n",
    "\n",
    "df"
   ]
  },
  {
   "cell_type": "code",
   "execution_count": 48,
   "id": "7ec9c41e-0fdc-4fbe-9627-db7d5f3aaacb",
   "metadata": {},
   "outputs": [
    {
     "name": "stdout",
     "output_type": "stream",
     "text": [
      "0.8928571428571428\n",
      "[0.5]\n"
     ]
    }
   ],
   "source": [
    "from sklearn.linear_model import LogisticRegression\n",
    "\n",
    "# no scaling\n",
    "model1 = LinearRegression()\n",
    "# model1 = LogisticRegression()\n",
    "\n",
    "model1.fit(X, y)\n",
    "\n",
    "print(model1.score(X, y))\n",
    "print(model1.coef_)"
   ]
  },
  {
   "cell_type": "code",
   "execution_count": 110,
   "id": "ed32a770-be15-45db-8468-977060feecbe",
   "metadata": {},
   "outputs": [
    {
     "data": {
      "text/plain": [
       "array([0.5])"
      ]
     },
     "execution_count": 110,
     "metadata": {},
     "output_type": "execute_result"
    }
   ],
   "source": [
    "model1.coef_"
   ]
  },
  {
   "cell_type": "code",
   "execution_count": 38,
   "id": "a0a61d29-cbf2-4088-bf3f-5505e70991ab",
   "metadata": {},
   "outputs": [
    {
     "name": "stdout",
     "output_type": "stream",
     "text": [
      "0.8928571428571429\n",
      "[0.70710678]\n"
     ]
    }
   ],
   "source": [
    "\n",
    "# scaling\n",
    "model2 = LinearRegression()\n",
    "# model2 = LogisticRegression()\n",
    "\n",
    "scaler = StandardScaler()\n",
    "# scaler = MinMaxScaler()\n",
    "scaler.fit(X)\n",
    "X_scaled = scaler.transform(X)\n",
    "# X_scaled_test = scaler.transform(X_test)\n",
    "\n",
    "model2_fit = model2.fit(X_scaled, y)\n",
    "\n",
    "print(model2_fit.score(X_scaled, y))\n",
    "print(model2.coef_)"
   ]
  },
  {
   "cell_type": "code",
   "execution_count": 63,
   "id": "5dd73cb8-2a8b-435b-9ce2-9d0537df931f",
   "metadata": {},
   "outputs": [
    {
     "data": {
      "text/plain": [
       "0   -1.414214\n",
       "1   -0.707107\n",
       "2    0.000000\n",
       "3    0.707107\n",
       "4    1.414214\n",
       "Name: 0, dtype: float64"
      ]
     },
     "execution_count": 63,
     "metadata": {},
     "output_type": "execute_result"
    }
   ],
   "source": [
    "pd.DataFrame(X_scaled)[0]"
   ]
  },
  {
   "cell_type": "code",
   "execution_count": 58,
   "id": "23b8309b-7b81-43e3-9ef2-1b2988742042",
   "metadata": {},
   "outputs": [
    {
     "data": {
      "text/plain": [
       "<AxesSubplot:xlabel='X', ylabel='y'>"
      ]
     },
     "execution_count": 58,
     "metadata": {},
     "output_type": "execute_result"
    },
    {
     "data": {
      "image/png": "[encoded data removed]",
      "text/plain": [
       "<Figure size 640x480 with 1 Axes>"
      ]
     },
     "metadata": {},
     "output_type": "display_data"
    }
   ],
   "source": [
    "sns.scatterplot(data=df,x='X',y='y')"
   ]
  },
  {
   "cell_type": "code",
   "execution_count": 64,
   "id": "091b3f58-72b9-4cb8-9e8a-12401a736735",
   "metadata": {},
   "outputs": [
    {
     "data": {
      "text/plain": [
       "<AxesSubplot:xlabel='0', ylabel='y'>"
      ]
     },
     "execution_count": 64,
     "metadata": {},
     "output_type": "execute_result"
    },
    {
     "data": {
      "image/png": "[encoded data removed]",
      "text/plain": [
       "<Figure size 640x480 with 1 Axes>"
      ]
     },
     "metadata": {},
     "output_type": "display_data"
    }
   ],
   "source": [
    "sns.scatterplot(x=pd.DataFrame(X_scaled)[0],y=df['y'])"
   ]
  },
  {
   "cell_type": "code",
   "execution_count": null,
   "id": "3ce801c4-513a-44f9-b43a-a1d928b2a525",
   "metadata": {},
   "outputs": [],
   "source": []
  }
 ],
 "metadata": {
  "kernelspec": {
   "display_name": "Python 3 (ipykernel)",
   "language": "python",
   "name": "python3"
  },
  "language_info": {
   "codemirror_mode": {
    "name": "ipython",
    "version": 3
   },
   "file_extension": ".py",
   "mimetype": "text/x-python",
   "name": "python",
   "nbconvert_exporter": "python",
   "pygments_lexer": "ipython3",
   "version": "3.9.13"
  }
 },
 "nbformat": 4,
 "nbformat_minor": 5
}
