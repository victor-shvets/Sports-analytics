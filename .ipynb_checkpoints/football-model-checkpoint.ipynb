{
 "cells": [
  {
   "cell_type": "markdown",
   "id": "8f86eeee-fdbd-4cd5-bbc6-f56f9295f2d4",
   "metadata": {},
   "source": [
    "# Modeling\n",
    "\n",
    "This notebook will be used for modeling."
   ]
  },
  {
   "cell_type": "markdown",
   "id": "6297544e-4937-4cb6-bc23-cf843e79eb15",
   "metadata": {},
   "source": [
    "# Libraries"
   ]
  },
  {
   "cell_type": "code",
   "execution_count": 1,
   "id": "4bed7559-5426-4d09-a898-9f20868c7794",
   "metadata": {},
   "outputs": [],
   "source": [
    "from sklearn.linear_model import LinearRegression\n",
    "from sklearn.linear_model import SGDRegressor\n",
    "from sklearn.model_selection import train_test_split\n",
    "from sklearn.dummy import DummyRegressor\n",
    "from sklearn.preprocessing import StandardScaler\n",
    "from sklearn.preprocessing import MinMaxScaler\n",
    "from sklearn.feature_selection import SelectKBest, f_regression\n",
    "from sklearn.feature_selection import VarianceThreshold\n",
    "from sklearn.preprocessing import OneHotEncoder\n",
    "import pandas as pd\n",
    "import time\n",
    "import seaborn as sns\n",
    "import numpy as np\n",
    "# from pandasql import sqldf\n",
    "# from statsmodels.stats.outliers_influence import variance_inflation_factor\n",
    "# import glob\n",
    "# import matplotlib.pyplot as plt\n",
    "# import math\n",
    "# import statsmodels.api as sm"
   ]
  },
  {
   "cell_type": "markdown",
   "id": "ba70872d-c7ed-4ce7-b5a7-0490d37bd0b0",
   "metadata": {},
   "source": [
    "# Functions"
   ]
  },
  {
   "cell_type": "code",
   "execution_count": 19,
   "id": "ecf64078-2d26-4751-b779-05b04f1f8680",
   "metadata": {},
   "outputs": [],
   "source": [
    "class model():\n",
    "    \n",
    "    '''\n",
    "    The class is used to repeat the standard tasks associated with the model\n",
    "    '''\n",
    "    \n",
    "    def __init__(self, modelType, df, scaler):\n",
    "        \n",
    "        '''\n",
    "        Initialize the model, defines X and y, split train and test\n",
    "        \n",
    "        modelType - defines the model class\n",
    "        df - the data frame\n",
    "        scaler - scaler that will be used\n",
    "        '''\n",
    "        \n",
    "        # Define the target\n",
    "        self.y = df['goals_total']\n",
    "\n",
    "        # Define the features\n",
    "        self.X = df.drop(['goals_total'], axis=1)\n",
    "        \n",
    "        # Split train and test\n",
    "        self.X_train, self.X_test, self.y_train, self.y_test = train_test_split(self.X, self.y, test_size=0.2, random_state=7)\n",
    "        \n",
    "        # Scale\n",
    "        if scaler is not None:\n",
    "            self.X_train = scaler.fit_transform(self.X_train)\n",
    "            self.X_test = scaler.transform(self.X_test)\n",
    "\n",
    "        self.modelType = modelType\n",
    "    \n",
    "    def fit(self):\n",
    "        \n",
    "        '''\n",
    "        Fit the model\n",
    "        '''\n",
    "    \n",
    "        startTime = time.time()\n",
    "        self.modelType.fit(self.X_train, self.y_train)\n",
    "        self.learnTime = round(time.time() - startTime, 4)\n",
    "        \n",
    "    def predict(self):\n",
    "        \n",
    "        '''\n",
    "        Predict using the model\n",
    "        '''\n",
    "        \n",
    "        startTime = time.time()\n",
    "        model_prediction_train = self.modelType.predict(self.X_train)\n",
    "        model_prediction_test = self.modelType.predict(self.X_test)\n",
    "        self.predictTime = round(time.time() - startTime, 4)\n",
    "        \n",
    "    def score(self, type):\n",
    "        \n",
    "        '''\n",
    "        Returns the score\n",
    "        \n",
    "        type - either train or test\n",
    "        '''\n",
    "        \n",
    "        if type == 'train':\n",
    "            return round(self.modelType.score(self.X_train, self.y_train), 4)\n",
    "        else:\n",
    "            return round(self.modelType.score(self.X_test, self.y_test), 4)\n",
    "        \n",
    "    def save(self, model, version, scale, featureE, hyper, featureS):\n",
    "        \n",
    "        '''\n",
    "        Adds parameters of each iteration into the summary data frame\n",
    "\n",
    "        model - model type\n",
    "        version - version of model/iteration\n",
    "        scale - scaling\n",
    "        featureE - feature engineering\n",
    "        hyper - hyper-parameters tuning\n",
    "        featureS - feature selection\n",
    "        '''\n",
    "        \n",
    "        dfModelSummary.loc[dfModelSummary.index[0], model + ' ' + version] = dfFootballML.shape[1] - 1\n",
    "\n",
    "        dfModelSummary.loc[dfModelSummary.index[1], model + ' ' + version] = scale\n",
    "\n",
    "        dfModelSummary.loc[dfModelSummary.index[2], model + ' ' + version] = featureE\n",
    "\n",
    "        dfModelSummary.loc[dfModelSummary.index[3], model + ' ' + version] = hyper\n",
    "\n",
    "        dfModelSummary.loc[dfModelSummary.index[4], model + ' ' + version] = featureS\n",
    "        \n",
    "        dfModelSummary.loc[dfModelSummary.index[5], model + ' ' + version] = round(self.modelType.score(self.X_train, self.y_train), 4)\n",
    "        dfModelSummary.loc[dfModelSummary.index[6], model + ' ' + version] = round(self.modelType.score(self.X_test, self.y_test), 4)\n",
    "        \n",
    "        dfModelSummary.loc[dfModelSummary.index[7], model + ' ' + version] = self.learnTime\n",
    "        dfModelSummary.loc[dfModelSummary.index[8], model + ' ' + version] = self.predictTime\n",
    "        \n",
    "    def coef(self):\n",
    "        return self.modelType.coef_"
   ]
  },
  {
   "cell_type": "markdown",
   "id": "1f6c8575-5b8d-4acf-aa49-5bb8fae64025",
   "metadata": {},
   "source": [
    "# Initialization"
   ]
  },
  {
   "cell_type": "code",
   "execution_count": 3,
   "id": "05569728-75b0-4923-b07d-9bb1110a51e6",
   "metadata": {},
   "outputs": [],
   "source": [
    "# Display all columns\n",
    "pd.set_option('display.max_columns', None)\n",
    "\n",
    "# Intialize the summary data frame\n",
    "indexSummary = ['Number of features','Scaling','Feature enginnering','Hyper-parameters tuning','Feature selection',\\\n",
    "                'Train score','Test score','Learning time','Prediction time','Other changes']\n",
    "\n",
    "dfModelSummary = pd.DataFrame(index=indexSummary)"
   ]
  },
  {
   "cell_type": "markdown",
   "id": "48209d94-3ee9-475f-94b1-f49cd48fa7f4",
   "metadata": {},
   "source": [
    "# Load from files"
   ]
  },
  {
   "cell_type": "code",
   "execution_count": 4,
   "id": "4c3fd9fb-b893-415d-9c76-43ab6f54d775",
   "metadata": {},
   "outputs": [],
   "source": [
    "dfFootballML = pd.read_csv('data/football_ml.csv')\n",
    "dfFootballMLBench = pd.read_csv('data/football_ml_bench.csv')"
   ]
  },
  {
   "cell_type": "markdown",
   "id": "2285447f-a05f-413b-9b8e-88d7c492b5f8",
   "metadata": {
    "tags": []
   },
   "source": [
    "# Feature selection"
   ]
  },
  {
   "cell_type": "markdown",
   "id": "6ba2bf7a-7451-48e5-9900-498679691d9b",
   "metadata": {},
   "source": [
    "## Variance\n",
    "\n",
    "I will check the variance for each feature and remove the features with variance below the threshold."
   ]
  },
  {
   "cell_type": "code",
   "execution_count": 5,
   "id": "e03b0aa9-7b09-49ae-9824-3ca1e1c2ba3b",
   "metadata": {},
   "outputs": [
    {
     "name": "stdout",
     "output_type": "stream",
     "text": [
      "Total number of features: 24\n",
      "Number of features that should be removed: 0\n",
      "The list of features that should be removed: []\n"
     ]
    },
    {
     "data": {
      "text/plain": [
       "[Text(0.5, 0, 'Variance'),\n",
       " Text(0.5, 1.0, 'MinMax Scaled variances comparison')]"
      ]
     },
     "execution_count": 5,
     "metadata": {},
     "output_type": "execute_result"
    },
    {
     "data": {
      "image/png": "[encoded data removed]",
      "text/plain": [
       "<Figure size 640x480 with 1 Axes>"
      ]
     },
     "metadata": {},
     "output_type": "display_data"
    }
   ],
   "source": [
    "scaler = MinMaxScaler()\n",
    "\n",
    "# List of features\n",
    "X = dfFootballML.drop('goals_total', axis=1)\n",
    "\n",
    "# Scale the data frame\n",
    "XScaled = scaler.fit_transform(X)\n",
    "\n",
    "# Define the variance threshold\n",
    "VarThresh = VarianceThreshold(threshold=0.0004)\n",
    "\n",
    "# Fit the threshold on the scaled data\n",
    "VarThresh.fit(XScaled)\n",
    "\n",
    "print(f'Total number of features: {len(X.columns)}')\n",
    "print(f'Number of features that should be removed: {len(X.columns[~VarThresh.get_support()])}')\n",
    "print(f'The list of features that should be removed: {X.columns[~VarThresh.get_support()].to_list()}')\n",
    "\n",
    "sns.barplot(y=X.columns, x=VarThresh.variances_).set(xlabel='Variance', title='MinMax Scaled variances comparison')"
   ]
  },
  {
   "cell_type": "markdown",
   "id": "fdfd5eb2-f444-45f1-9f6c-b8df561a429b",
   "metadata": {},
   "source": [
    "All features passed the test, we do not need to remove any feature."
   ]
  },
  {
   "cell_type": "markdown",
   "id": "5eb1823c-22e3-4f0f-85ad-d7e8657f66f0",
   "metadata": {
    "tags": []
   },
   "source": [
    "# Transformation"
   ]
  },
  {
   "cell_type": "markdown",
   "id": "fae04160-4247-4f80-9fd4-fe7dfe454824",
   "metadata": {},
   "source": [
    "## One hot encoding"
   ]
  },
  {
   "cell_type": "markdown",
   "id": "0dbf4f94-5556-4569-93a2-a8d1511bdda7",
   "metadata": {},
   "source": [
    "### Venue surface\n",
    "\n",
    "It will be a binary encoding, grass or not."
   ]
  },
  {
   "cell_type": "code",
   "execution_count": 6,
   "id": "e5f4a114-ec92-47ab-905c-904c7f723e1c",
   "metadata": {},
   "outputs": [],
   "source": [
    "# Initialize binary OHE\n",
    "ohe = OneHotEncoder(handle_unknown='ignore', drop='if_binary')\n",
    "\n",
    "# Encode the column\n",
    "encoded = ohe.fit_transform(dfFootballMLBench[['venue_surface']])\n",
    "\n",
    "# Create a data frame\n",
    "dfOHE = pd.DataFrame(encoded.toarray(), columns=['venue_surface'])\n",
    "\n",
    "# Concatenate the encoded column to the original data frame\n",
    "dfFootballML = pd.concat([dfFootballML, dfOHE], axis=1)\n",
    "\n",
    "# Remove from the bench\n",
    "dfFootballMLBench = dfFootballMLBench.drop('venue_surface', axis=1)"
   ]
  },
  {
   "cell_type": "markdown",
   "id": "60c4ab7c-f3cc-418d-b769-731d2baf01f0",
   "metadata": {},
   "source": [
    "### Player nationality\n",
    "\n",
    "There are 171 nationalities. Some of them have 1 or low number of records. One Hot Encoding will create a new feature for each column. I want to cover the majority of data and also want to reduce the number of categories. I will find the minimum frequency to cover 80% of the data."
   ]
  },
  {
   "cell_type": "code",
   "execution_count": 7,
   "id": "6bc2aaad-41b0-48d9-97fc-ce0076f04961",
   "metadata": {},
   "outputs": [
    {
     "data": {
      "text/plain": [
       "[Text(0.5, 1.0, 'Player Nationality')]"
      ]
     },
     "execution_count": 7,
     "metadata": {},
     "output_type": "execute_result"
    },
    {
     "data": {
      "image/png": "[encoded data removed]",
      "text/plain": [
       "<Figure size 2000x500 with 1 Axes>"
      ]
     },
     "metadata": {},
     "output_type": "display_data"
    }
   ],
   "source": [
    "valueCounts = dfFootballMLBench.player_nationality.value_counts()\n",
    "\n",
    "top_n = []\n",
    "freq = []\n",
    "\n",
    "# Check all possible cases stating from 0 records to 5000 records with step 250\n",
    "for i in range(0, 5000, 250):\n",
    "    \n",
    "    top_n.append(i)\n",
    "    freq.append(round(valueCounts[valueCounts > i].sum() / valueCounts.sum() * 100))\n",
    "\n",
    "dfTopN = pd.DataFrame({'Percentage of records': freq, 'Minimum number of records per category': top_n})\n",
    "\n",
    "sns.set(rc={\"figure.figsize\":(20, 5)})\n",
    "\n",
    "sns.barplot(x=dfTopN['Minimum number of records per category'], y=dfTopN['Percentage of records'])\\\n",
    "    .set(title='Player Nationality')"
   ]
  },
  {
   "cell_type": "code",
   "execution_count": 8,
   "id": "acb5d8e7-b1f7-40a8-8aaa-5565872f811c",
   "metadata": {},
   "outputs": [
    {
     "name": "stdout",
     "output_type": "stream",
     "text": [
      "Number of categories left is 23 out of 171\n"
     ]
    }
   ],
   "source": [
    "print(f'Number of categories left is {len(valueCounts[valueCounts > 500])} out of {len(valueCounts)}')"
   ]
  },
  {
   "cell_type": "markdown",
   "id": "de870f3f-b39e-42cb-838c-71d7108141d3",
   "metadata": {},
   "source": [
    "If I pick the minimum frequency as 500 I will cover 80% of data and reduce the number of categories by more than 7 times."
   ]
  },
  {
   "cell_type": "code",
   "execution_count": 9,
   "id": "86ae7770-de0d-4fb6-9757-03799a3220b7",
   "metadata": {},
   "outputs": [],
   "source": [
    "# Set One Hot Encoder with min frequency 500\n",
    "ohe = OneHotEncoder(handle_unknown='ignore', min_frequency=500, drop='first')\n",
    "\n",
    "encoded = ohe.fit_transform(dfFootballMLBench[['player_nationality']])\n",
    "\n",
    "# Remove infrequent categories \n",
    "sInfreq = set(ohe.infrequent_categories_[0])\n",
    "sAll = set(dfFootballMLBench.player_nationality.unique())\n",
    "sFreq = list(sAll.difference(sInfreq))\n",
    "\n",
    "dfOHE = pd.DataFrame(encoded.toarray(), columns=sFreq)\n",
    "\n",
    "# Concatenate new set of features to the original data frame and drop Hotel_Name\n",
    "dfFootballML = pd.concat([dfFootballML, dfOHE], axis=1)\n",
    "\n",
    "# Remove from the bench\n",
    "dfFootballMLBench = dfFootballMLBench.drop('player_nationality', axis=1)"
   ]
  },
  {
   "cell_type": "code",
   "execution_count": 14,
   "id": "b86ea855-8278-4b85-a79d-153c6ac9924f",
   "metadata": {},
   "outputs": [
    {
     "data": {
      "text/html": [
       "<div>\n",
       "<style scoped>\n",
       "    .dataframe tbody tr th:only-of-type {\n",
       "        vertical-align: middle;\n",
       "    }\n",
       "\n",
       "    .dataframe tbody tr th {\n",
       "        vertical-align: top;\n",
       "    }\n",
       "\n",
       "    .dataframe thead th {\n",
       "        text-align: right;\n",
       "    }\n",
       "</style>\n",
       "<table border=\"1\" class=\"dataframe\">\n",
       "  <thead>\n",
       "    <tr style=\"text-align: right;\">\n",
       "      <th></th>\n",
       "      <th>player_age</th>\n",
       "      <th>player_height</th>\n",
       "      <th>games_minutes</th>\n",
       "      <th>substitutes_in</th>\n",
       "      <th>substitutes_out</th>\n",
       "      <th>substitutes_bench</th>\n",
       "      <th>shots_on</th>\n",
       "      <th>goals_total</th>\n",
       "      <th>goals_assists</th>\n",
       "      <th>passes_total</th>\n",
       "      <th>passes_key</th>\n",
       "      <th>passes_accuracy</th>\n",
       "      <th>tackles_total</th>\n",
       "      <th>tackles_blocks</th>\n",
       "      <th>tackles_interceptions</th>\n",
       "      <th>duels_won</th>\n",
       "      <th>dribbles_success</th>\n",
       "      <th>fouls_drawn</th>\n",
       "      <th>fouls_committed</th>\n",
       "      <th>cards_yellow</th>\n",
       "      <th>cards_yellowred</th>\n",
       "      <th>cards_red</th>\n",
       "      <th>penalty_won</th>\n",
       "      <th>penalty_missed</th>\n",
       "      <th>venue_capacity</th>\n",
       "      <th>venue_surface</th>\n",
       "      <th>Belgium</th>\n",
       "      <th>Denmark</th>\n",
       "      <th>Spain</th>\n",
       "      <th>Morocco</th>\n",
       "      <th>Serbia</th>\n",
       "      <th>Nigeria</th>\n",
       "      <th>France</th>\n",
       "      <th>Côte d'Ivoire</th>\n",
       "      <th>England</th>\n",
       "      <th>Türkiye</th>\n",
       "      <th>Cameroon</th>\n",
       "      <th>Turkey</th>\n",
       "      <th>Ghana</th>\n",
       "      <th>Italy</th>\n",
       "      <th>Netherlands</th>\n",
       "      <th>Senegal</th>\n",
       "      <th>Germany</th>\n",
       "      <th>Sweden</th>\n",
       "      <th>Argentina</th>\n",
       "      <th>Brazil</th>\n",
       "      <th>Croatia</th>\n",
       "      <th>Portugal</th>\n",
       "      <th>Ukraine</th>\n",
       "      <th>games_position</th>\n",
       "    </tr>\n",
       "  </thead>\n",
       "  <tbody>\n",
       "    <tr>\n",
       "      <th>0</th>\n",
       "      <td>37.0</td>\n",
       "      <td>189</td>\n",
       "      <td>0.0</td>\n",
       "      <td>0.0</td>\n",
       "      <td>0.0</td>\n",
       "      <td>0.0</td>\n",
       "      <td>0.0</td>\n",
       "      <td>0.0</td>\n",
       "      <td>0.0</td>\n",
       "      <td>0.0</td>\n",
       "      <td>0.0</td>\n",
       "      <td>0.0</td>\n",
       "      <td>0.0</td>\n",
       "      <td>0.0</td>\n",
       "      <td>0.0</td>\n",
       "      <td>0.0</td>\n",
       "      <td>0.0</td>\n",
       "      <td>0.0</td>\n",
       "      <td>0.0</td>\n",
       "      <td>0.0</td>\n",
       "      <td>0.0</td>\n",
       "      <td>0.0</td>\n",
       "      <td>0.0</td>\n",
       "      <td>0.0</td>\n",
       "      <td>50083</td>\n",
       "      <td>1.0</td>\n",
       "      <td>0.0</td>\n",
       "      <td>0.0</td>\n",
       "      <td>0.0</td>\n",
       "      <td>0.0</td>\n",
       "      <td>0.0</td>\n",
       "      <td>0.0</td>\n",
       "      <td>0.0</td>\n",
       "      <td>0.0</td>\n",
       "      <td>0.0</td>\n",
       "      <td>0.0</td>\n",
       "      <td>0.0</td>\n",
       "      <td>0.0</td>\n",
       "      <td>0.0</td>\n",
       "      <td>0.0</td>\n",
       "      <td>0.0</td>\n",
       "      <td>0.0</td>\n",
       "      <td>0.0</td>\n",
       "      <td>0.0</td>\n",
       "      <td>0.0</td>\n",
       "      <td>0.0</td>\n",
       "      <td>0.0</td>\n",
       "      <td>0.0</td>\n",
       "      <td>1.0</td>\n",
       "      <td>0.001906</td>\n",
       "    </tr>\n",
       "    <tr>\n",
       "      <th>1</th>\n",
       "      <td>35.0</td>\n",
       "      <td>178</td>\n",
       "      <td>314.0</td>\n",
       "      <td>3.0</td>\n",
       "      <td>4.0</td>\n",
       "      <td>5.0</td>\n",
       "      <td>1.0</td>\n",
       "      <td>0.0</td>\n",
       "      <td>1.0</td>\n",
       "      <td>144.0</td>\n",
       "      <td>6.0</td>\n",
       "      <td>18.0</td>\n",
       "      <td>4.0</td>\n",
       "      <td>0.0</td>\n",
       "      <td>0.0</td>\n",
       "      <td>15.0</td>\n",
       "      <td>7.0</td>\n",
       "      <td>4.0</td>\n",
       "      <td>7.0</td>\n",
       "      <td>1.0</td>\n",
       "      <td>0.0</td>\n",
       "      <td>0.0</td>\n",
       "      <td>0.0</td>\n",
       "      <td>0.0</td>\n",
       "      <td>50083</td>\n",
       "      <td>1.0</td>\n",
       "      <td>0.0</td>\n",
       "      <td>0.0</td>\n",
       "      <td>0.0</td>\n",
       "      <td>0.0</td>\n",
       "      <td>0.0</td>\n",
       "      <td>0.0</td>\n",
       "      <td>0.0</td>\n",
       "      <td>1.0</td>\n",
       "      <td>0.0</td>\n",
       "      <td>0.0</td>\n",
       "      <td>0.0</td>\n",
       "      <td>0.0</td>\n",
       "      <td>0.0</td>\n",
       "      <td>0.0</td>\n",
       "      <td>0.0</td>\n",
       "      <td>0.0</td>\n",
       "      <td>0.0</td>\n",
       "      <td>0.0</td>\n",
       "      <td>0.0</td>\n",
       "      <td>0.0</td>\n",
       "      <td>0.0</td>\n",
       "      <td>0.0</td>\n",
       "      <td>0.0</td>\n",
       "      <td>1.247540</td>\n",
       "    </tr>\n",
       "    <tr>\n",
       "      <th>2</th>\n",
       "      <td>33.0</td>\n",
       "      <td>173</td>\n",
       "      <td>11.0</td>\n",
       "      <td>2.0</td>\n",
       "      <td>0.0</td>\n",
       "      <td>29.0</td>\n",
       "      <td>0.0</td>\n",
       "      <td>0.0</td>\n",
       "      <td>0.0</td>\n",
       "      <td>20.0</td>\n",
       "      <td>1.0</td>\n",
       "      <td>14.0</td>\n",
       "      <td>0.0</td>\n",
       "      <td>0.0</td>\n",
       "      <td>1.0</td>\n",
       "      <td>1.0</td>\n",
       "      <td>0.0</td>\n",
       "      <td>0.0</td>\n",
       "      <td>0.0</td>\n",
       "      <td>0.0</td>\n",
       "      <td>0.0</td>\n",
       "      <td>0.0</td>\n",
       "      <td>0.0</td>\n",
       "      <td>0.0</td>\n",
       "      <td>50083</td>\n",
       "      <td>1.0</td>\n",
       "      <td>0.0</td>\n",
       "      <td>0.0</td>\n",
       "      <td>0.0</td>\n",
       "      <td>0.0</td>\n",
       "      <td>0.0</td>\n",
       "      <td>0.0</td>\n",
       "      <td>0.0</td>\n",
       "      <td>1.0</td>\n",
       "      <td>0.0</td>\n",
       "      <td>0.0</td>\n",
       "      <td>0.0</td>\n",
       "      <td>0.0</td>\n",
       "      <td>0.0</td>\n",
       "      <td>0.0</td>\n",
       "      <td>0.0</td>\n",
       "      <td>0.0</td>\n",
       "      <td>0.0</td>\n",
       "      <td>0.0</td>\n",
       "      <td>0.0</td>\n",
       "      <td>0.0</td>\n",
       "      <td>0.0</td>\n",
       "      <td>0.0</td>\n",
       "      <td>0.0</td>\n",
       "      <td>0.503476</td>\n",
       "    </tr>\n",
       "    <tr>\n",
       "      <th>3</th>\n",
       "      <td>20.0</td>\n",
       "      <td>180</td>\n",
       "      <td>0.0</td>\n",
       "      <td>0.0</td>\n",
       "      <td>0.0</td>\n",
       "      <td>6.0</td>\n",
       "      <td>0.0</td>\n",
       "      <td>0.0</td>\n",
       "      <td>0.0</td>\n",
       "      <td>0.0</td>\n",
       "      <td>0.0</td>\n",
       "      <td>0.0</td>\n",
       "      <td>0.0</td>\n",
       "      <td>0.0</td>\n",
       "      <td>0.0</td>\n",
       "      <td>0.0</td>\n",
       "      <td>0.0</td>\n",
       "      <td>0.0</td>\n",
       "      <td>0.0</td>\n",
       "      <td>0.0</td>\n",
       "      <td>0.0</td>\n",
       "      <td>0.0</td>\n",
       "      <td>0.0</td>\n",
       "      <td>0.0</td>\n",
       "      <td>50083</td>\n",
       "      <td>1.0</td>\n",
       "      <td>0.0</td>\n",
       "      <td>0.0</td>\n",
       "      <td>0.0</td>\n",
       "      <td>0.0</td>\n",
       "      <td>0.0</td>\n",
       "      <td>0.0</td>\n",
       "      <td>0.0</td>\n",
       "      <td>1.0</td>\n",
       "      <td>0.0</td>\n",
       "      <td>0.0</td>\n",
       "      <td>0.0</td>\n",
       "      <td>0.0</td>\n",
       "      <td>0.0</td>\n",
       "      <td>0.0</td>\n",
       "      <td>0.0</td>\n",
       "      <td>0.0</td>\n",
       "      <td>0.0</td>\n",
       "      <td>0.0</td>\n",
       "      <td>0.0</td>\n",
       "      <td>0.0</td>\n",
       "      <td>0.0</td>\n",
       "      <td>0.0</td>\n",
       "      <td>0.0</td>\n",
       "      <td>1.247540</td>\n",
       "    </tr>\n",
       "    <tr>\n",
       "      <th>4</th>\n",
       "      <td>20.0</td>\n",
       "      <td>180</td>\n",
       "      <td>0.0</td>\n",
       "      <td>0.0</td>\n",
       "      <td>0.0</td>\n",
       "      <td>1.0</td>\n",
       "      <td>0.0</td>\n",
       "      <td>0.0</td>\n",
       "      <td>0.0</td>\n",
       "      <td>0.0</td>\n",
       "      <td>0.0</td>\n",
       "      <td>0.0</td>\n",
       "      <td>0.0</td>\n",
       "      <td>0.0</td>\n",
       "      <td>0.0</td>\n",
       "      <td>0.0</td>\n",
       "      <td>0.0</td>\n",
       "      <td>0.0</td>\n",
       "      <td>0.0</td>\n",
       "      <td>0.0</td>\n",
       "      <td>0.0</td>\n",
       "      <td>0.0</td>\n",
       "      <td>0.0</td>\n",
       "      <td>0.0</td>\n",
       "      <td>50083</td>\n",
       "      <td>1.0</td>\n",
       "      <td>0.0</td>\n",
       "      <td>0.0</td>\n",
       "      <td>0.0</td>\n",
       "      <td>0.0</td>\n",
       "      <td>0.0</td>\n",
       "      <td>0.0</td>\n",
       "      <td>0.0</td>\n",
       "      <td>0.0</td>\n",
       "      <td>0.0</td>\n",
       "      <td>0.0</td>\n",
       "      <td>0.0</td>\n",
       "      <td>0.0</td>\n",
       "      <td>0.0</td>\n",
       "      <td>0.0</td>\n",
       "      <td>1.0</td>\n",
       "      <td>0.0</td>\n",
       "      <td>0.0</td>\n",
       "      <td>0.0</td>\n",
       "      <td>0.0</td>\n",
       "      <td>0.0</td>\n",
       "      <td>0.0</td>\n",
       "      <td>0.0</td>\n",
       "      <td>0.0</td>\n",
       "      <td>3.126463</td>\n",
       "    </tr>\n",
       "    <tr>\n",
       "      <th>...</th>\n",
       "      <td>...</td>\n",
       "      <td>...</td>\n",
       "      <td>...</td>\n",
       "      <td>...</td>\n",
       "      <td>...</td>\n",
       "      <td>...</td>\n",
       "      <td>...</td>\n",
       "      <td>...</td>\n",
       "      <td>...</td>\n",
       "      <td>...</td>\n",
       "      <td>...</td>\n",
       "      <td>...</td>\n",
       "      <td>...</td>\n",
       "      <td>...</td>\n",
       "      <td>...</td>\n",
       "      <td>...</td>\n",
       "      <td>...</td>\n",
       "      <td>...</td>\n",
       "      <td>...</td>\n",
       "      <td>...</td>\n",
       "      <td>...</td>\n",
       "      <td>...</td>\n",
       "      <td>...</td>\n",
       "      <td>...</td>\n",
       "      <td>...</td>\n",
       "      <td>...</td>\n",
       "      <td>...</td>\n",
       "      <td>...</td>\n",
       "      <td>...</td>\n",
       "      <td>...</td>\n",
       "      <td>...</td>\n",
       "      <td>...</td>\n",
       "      <td>...</td>\n",
       "      <td>...</td>\n",
       "      <td>...</td>\n",
       "      <td>...</td>\n",
       "      <td>...</td>\n",
       "      <td>...</td>\n",
       "      <td>...</td>\n",
       "      <td>...</td>\n",
       "      <td>...</td>\n",
       "      <td>...</td>\n",
       "      <td>...</td>\n",
       "      <td>...</td>\n",
       "      <td>...</td>\n",
       "      <td>...</td>\n",
       "      <td>...</td>\n",
       "      <td>...</td>\n",
       "      <td>...</td>\n",
       "      <td>...</td>\n",
       "    </tr>\n",
       "    <tr>\n",
       "      <th>65856</th>\n",
       "      <td>33.0</td>\n",
       "      <td>187</td>\n",
       "      <td>56.0</td>\n",
       "      <td>4.0</td>\n",
       "      <td>0.0</td>\n",
       "      <td>6.0</td>\n",
       "      <td>0.0</td>\n",
       "      <td>0.0</td>\n",
       "      <td>0.0</td>\n",
       "      <td>0.0</td>\n",
       "      <td>0.0</td>\n",
       "      <td>0.0</td>\n",
       "      <td>0.0</td>\n",
       "      <td>0.0</td>\n",
       "      <td>0.0</td>\n",
       "      <td>0.0</td>\n",
       "      <td>0.0</td>\n",
       "      <td>0.0</td>\n",
       "      <td>0.0</td>\n",
       "      <td>0.0</td>\n",
       "      <td>0.0</td>\n",
       "      <td>0.0</td>\n",
       "      <td>0.0</td>\n",
       "      <td>0.0</td>\n",
       "      <td>12139</td>\n",
       "      <td>1.0</td>\n",
       "      <td>0.0</td>\n",
       "      <td>0.0</td>\n",
       "      <td>0.0</td>\n",
       "      <td>0.0</td>\n",
       "      <td>0.0</td>\n",
       "      <td>0.0</td>\n",
       "      <td>0.0</td>\n",
       "      <td>0.0</td>\n",
       "      <td>0.0</td>\n",
       "      <td>0.0</td>\n",
       "      <td>0.0</td>\n",
       "      <td>0.0</td>\n",
       "      <td>0.0</td>\n",
       "      <td>0.0</td>\n",
       "      <td>0.0</td>\n",
       "      <td>0.0</td>\n",
       "      <td>0.0</td>\n",
       "      <td>0.0</td>\n",
       "      <td>0.0</td>\n",
       "      <td>0.0</td>\n",
       "      <td>1.0</td>\n",
       "      <td>0.0</td>\n",
       "      <td>0.0</td>\n",
       "      <td>3.126463</td>\n",
       "    </tr>\n",
       "    <tr>\n",
       "      <th>65857</th>\n",
       "      <td>35.0</td>\n",
       "      <td>189</td>\n",
       "      <td>44.0</td>\n",
       "      <td>1.0</td>\n",
       "      <td>0.0</td>\n",
       "      <td>2.0</td>\n",
       "      <td>0.0</td>\n",
       "      <td>0.0</td>\n",
       "      <td>0.0</td>\n",
       "      <td>0.0</td>\n",
       "      <td>0.0</td>\n",
       "      <td>0.0</td>\n",
       "      <td>0.0</td>\n",
       "      <td>0.0</td>\n",
       "      <td>0.0</td>\n",
       "      <td>0.0</td>\n",
       "      <td>0.0</td>\n",
       "      <td>0.0</td>\n",
       "      <td>0.0</td>\n",
       "      <td>0.0</td>\n",
       "      <td>0.0</td>\n",
       "      <td>0.0</td>\n",
       "      <td>0.0</td>\n",
       "      <td>0.0</td>\n",
       "      <td>12139</td>\n",
       "      <td>1.0</td>\n",
       "      <td>0.0</td>\n",
       "      <td>0.0</td>\n",
       "      <td>0.0</td>\n",
       "      <td>0.0</td>\n",
       "      <td>0.0</td>\n",
       "      <td>0.0</td>\n",
       "      <td>0.0</td>\n",
       "      <td>0.0</td>\n",
       "      <td>0.0</td>\n",
       "      <td>0.0</td>\n",
       "      <td>0.0</td>\n",
       "      <td>0.0</td>\n",
       "      <td>0.0</td>\n",
       "      <td>0.0</td>\n",
       "      <td>0.0</td>\n",
       "      <td>0.0</td>\n",
       "      <td>0.0</td>\n",
       "      <td>0.0</td>\n",
       "      <td>0.0</td>\n",
       "      <td>0.0</td>\n",
       "      <td>1.0</td>\n",
       "      <td>0.0</td>\n",
       "      <td>0.0</td>\n",
       "      <td>3.126463</td>\n",
       "    </tr>\n",
       "    <tr>\n",
       "      <th>65858</th>\n",
       "      <td>38.0</td>\n",
       "      <td>183</td>\n",
       "      <td>339.0</td>\n",
       "      <td>4.0</td>\n",
       "      <td>4.0</td>\n",
       "      <td>19.0</td>\n",
       "      <td>0.0</td>\n",
       "      <td>1.0</td>\n",
       "      <td>0.0</td>\n",
       "      <td>0.0</td>\n",
       "      <td>0.0</td>\n",
       "      <td>0.0</td>\n",
       "      <td>0.0</td>\n",
       "      <td>0.0</td>\n",
       "      <td>0.0</td>\n",
       "      <td>0.0</td>\n",
       "      <td>0.0</td>\n",
       "      <td>0.0</td>\n",
       "      <td>0.0</td>\n",
       "      <td>2.0</td>\n",
       "      <td>0.0</td>\n",
       "      <td>0.0</td>\n",
       "      <td>0.0</td>\n",
       "      <td>0.0</td>\n",
       "      <td>12139</td>\n",
       "      <td>1.0</td>\n",
       "      <td>0.0</td>\n",
       "      <td>0.0</td>\n",
       "      <td>0.0</td>\n",
       "      <td>0.0</td>\n",
       "      <td>0.0</td>\n",
       "      <td>0.0</td>\n",
       "      <td>0.0</td>\n",
       "      <td>0.0</td>\n",
       "      <td>0.0</td>\n",
       "      <td>0.0</td>\n",
       "      <td>0.0</td>\n",
       "      <td>0.0</td>\n",
       "      <td>0.0</td>\n",
       "      <td>0.0</td>\n",
       "      <td>0.0</td>\n",
       "      <td>0.0</td>\n",
       "      <td>0.0</td>\n",
       "      <td>0.0</td>\n",
       "      <td>0.0</td>\n",
       "      <td>0.0</td>\n",
       "      <td>1.0</td>\n",
       "      <td>0.0</td>\n",
       "      <td>0.0</td>\n",
       "      <td>1.247540</td>\n",
       "    </tr>\n",
       "    <tr>\n",
       "      <th>65859</th>\n",
       "      <td>31.0</td>\n",
       "      <td>177</td>\n",
       "      <td>0.0</td>\n",
       "      <td>0.0</td>\n",
       "      <td>0.0</td>\n",
       "      <td>2.0</td>\n",
       "      <td>0.0</td>\n",
       "      <td>0.0</td>\n",
       "      <td>0.0</td>\n",
       "      <td>0.0</td>\n",
       "      <td>0.0</td>\n",
       "      <td>0.0</td>\n",
       "      <td>0.0</td>\n",
       "      <td>0.0</td>\n",
       "      <td>0.0</td>\n",
       "      <td>0.0</td>\n",
       "      <td>0.0</td>\n",
       "      <td>0.0</td>\n",
       "      <td>0.0</td>\n",
       "      <td>0.0</td>\n",
       "      <td>0.0</td>\n",
       "      <td>0.0</td>\n",
       "      <td>0.0</td>\n",
       "      <td>0.0</td>\n",
       "      <td>12139</td>\n",
       "      <td>1.0</td>\n",
       "      <td>0.0</td>\n",
       "      <td>0.0</td>\n",
       "      <td>0.0</td>\n",
       "      <td>0.0</td>\n",
       "      <td>0.0</td>\n",
       "      <td>0.0</td>\n",
       "      <td>0.0</td>\n",
       "      <td>0.0</td>\n",
       "      <td>0.0</td>\n",
       "      <td>0.0</td>\n",
       "      <td>0.0</td>\n",
       "      <td>0.0</td>\n",
       "      <td>0.0</td>\n",
       "      <td>0.0</td>\n",
       "      <td>0.0</td>\n",
       "      <td>0.0</td>\n",
       "      <td>0.0</td>\n",
       "      <td>0.0</td>\n",
       "      <td>0.0</td>\n",
       "      <td>0.0</td>\n",
       "      <td>0.0</td>\n",
       "      <td>0.0</td>\n",
       "      <td>0.0</td>\n",
       "      <td>1.247540</td>\n",
       "    </tr>\n",
       "    <tr>\n",
       "      <th>65860</th>\n",
       "      <td>35.0</td>\n",
       "      <td>185</td>\n",
       "      <td>2238.0</td>\n",
       "      <td>3.0</td>\n",
       "      <td>17.0</td>\n",
       "      <td>6.0</td>\n",
       "      <td>0.0</td>\n",
       "      <td>11.0</td>\n",
       "      <td>0.0</td>\n",
       "      <td>0.0</td>\n",
       "      <td>0.0</td>\n",
       "      <td>0.0</td>\n",
       "      <td>0.0</td>\n",
       "      <td>0.0</td>\n",
       "      <td>0.0</td>\n",
       "      <td>0.0</td>\n",
       "      <td>0.0</td>\n",
       "      <td>0.0</td>\n",
       "      <td>0.0</td>\n",
       "      <td>2.0</td>\n",
       "      <td>0.0</td>\n",
       "      <td>0.0</td>\n",
       "      <td>0.0</td>\n",
       "      <td>0.0</td>\n",
       "      <td>12139</td>\n",
       "      <td>1.0</td>\n",
       "      <td>0.0</td>\n",
       "      <td>1.0</td>\n",
       "      <td>0.0</td>\n",
       "      <td>0.0</td>\n",
       "      <td>0.0</td>\n",
       "      <td>0.0</td>\n",
       "      <td>0.0</td>\n",
       "      <td>0.0</td>\n",
       "      <td>0.0</td>\n",
       "      <td>0.0</td>\n",
       "      <td>0.0</td>\n",
       "      <td>0.0</td>\n",
       "      <td>0.0</td>\n",
       "      <td>0.0</td>\n",
       "      <td>0.0</td>\n",
       "      <td>0.0</td>\n",
       "      <td>0.0</td>\n",
       "      <td>0.0</td>\n",
       "      <td>0.0</td>\n",
       "      <td>0.0</td>\n",
       "      <td>0.0</td>\n",
       "      <td>0.0</td>\n",
       "      <td>0.0</td>\n",
       "      <td>3.126463</td>\n",
       "    </tr>\n",
       "  </tbody>\n",
       "</table>\n",
       "<p>65861 rows × 50 columns</p>\n",
       "</div>"
      ],
      "text/plain": [
       "       player_age  player_height  games_minutes  substitutes_in  \\\n",
       "0            37.0            189            0.0             0.0   \n",
       "1            35.0            178          314.0             3.0   \n",
       "2            33.0            173           11.0             2.0   \n",
       "3            20.0            180            0.0             0.0   \n",
       "4            20.0            180            0.0             0.0   \n",
       "...           ...            ...            ...             ...   \n",
       "65856        33.0            187           56.0             4.0   \n",
       "65857        35.0            189           44.0             1.0   \n",
       "65858        38.0            183          339.0             4.0   \n",
       "65859        31.0            177            0.0             0.0   \n",
       "65860        35.0            185         2238.0             3.0   \n",
       "\n",
       "       substitutes_out  substitutes_bench  shots_on  goals_total  \\\n",
       "0                  0.0                0.0       0.0          0.0   \n",
       "1                  4.0                5.0       1.0          0.0   \n",
       "2                  0.0               29.0       0.0          0.0   \n",
       "3                  0.0                6.0       0.0          0.0   \n",
       "4                  0.0                1.0       0.0          0.0   \n",
       "...                ...                ...       ...          ...   \n",
       "65856              0.0                6.0       0.0          0.0   \n",
       "65857              0.0                2.0       0.0          0.0   \n",
       "65858              4.0               19.0       0.0          1.0   \n",
       "65859              0.0                2.0       0.0          0.0   \n",
       "65860             17.0                6.0       0.0         11.0   \n",
       "\n",
       "       goals_assists  passes_total  passes_key  passes_accuracy  \\\n",
       "0                0.0           0.0         0.0              0.0   \n",
       "1                1.0         144.0         6.0             18.0   \n",
       "2                0.0          20.0         1.0             14.0   \n",
       "3                0.0           0.0         0.0              0.0   \n",
       "4                0.0           0.0         0.0              0.0   \n",
       "...              ...           ...         ...              ...   \n",
       "65856            0.0           0.0         0.0              0.0   \n",
       "65857            0.0           0.0         0.0              0.0   \n",
       "65858            0.0           0.0         0.0              0.0   \n",
       "65859            0.0           0.0         0.0              0.0   \n",
       "65860            0.0           0.0         0.0              0.0   \n",
       "\n",
       "       tackles_total  tackles_blocks  tackles_interceptions  duels_won  \\\n",
       "0                0.0             0.0                    0.0        0.0   \n",
       "1                4.0             0.0                    0.0       15.0   \n",
       "2                0.0             0.0                    1.0        1.0   \n",
       "3                0.0             0.0                    0.0        0.0   \n",
       "4                0.0             0.0                    0.0        0.0   \n",
       "...              ...             ...                    ...        ...   \n",
       "65856            0.0             0.0                    0.0        0.0   \n",
       "65857            0.0             0.0                    0.0        0.0   \n",
       "65858            0.0             0.0                    0.0        0.0   \n",
       "65859            0.0             0.0                    0.0        0.0   \n",
       "65860            0.0             0.0                    0.0        0.0   \n",
       "\n",
       "       dribbles_success  fouls_drawn  fouls_committed  cards_yellow  \\\n",
       "0                   0.0          0.0              0.0           0.0   \n",
       "1                   7.0          4.0              7.0           1.0   \n",
       "2                   0.0          0.0              0.0           0.0   \n",
       "3                   0.0          0.0              0.0           0.0   \n",
       "4                   0.0          0.0              0.0           0.0   \n",
       "...                 ...          ...              ...           ...   \n",
       "65856               0.0          0.0              0.0           0.0   \n",
       "65857               0.0          0.0              0.0           0.0   \n",
       "65858               0.0          0.0              0.0           2.0   \n",
       "65859               0.0          0.0              0.0           0.0   \n",
       "65860               0.0          0.0              0.0           2.0   \n",
       "\n",
       "       cards_yellowred  cards_red  penalty_won  penalty_missed  \\\n",
       "0                  0.0        0.0          0.0             0.0   \n",
       "1                  0.0        0.0          0.0             0.0   \n",
       "2                  0.0        0.0          0.0             0.0   \n",
       "3                  0.0        0.0          0.0             0.0   \n",
       "4                  0.0        0.0          0.0             0.0   \n",
       "...                ...        ...          ...             ...   \n",
       "65856              0.0        0.0          0.0             0.0   \n",
       "65857              0.0        0.0          0.0             0.0   \n",
       "65858              0.0        0.0          0.0             0.0   \n",
       "65859              0.0        0.0          0.0             0.0   \n",
       "65860              0.0        0.0          0.0             0.0   \n",
       "\n",
       "       venue_capacity  venue_surface  Belgium  Denmark  Spain  Morocco  \\\n",
       "0               50083            1.0      0.0      0.0    0.0      0.0   \n",
       "1               50083            1.0      0.0      0.0    0.0      0.0   \n",
       "2               50083            1.0      0.0      0.0    0.0      0.0   \n",
       "3               50083            1.0      0.0      0.0    0.0      0.0   \n",
       "4               50083            1.0      0.0      0.0    0.0      0.0   \n",
       "...               ...            ...      ...      ...    ...      ...   \n",
       "65856           12139            1.0      0.0      0.0    0.0      0.0   \n",
       "65857           12139            1.0      0.0      0.0    0.0      0.0   \n",
       "65858           12139            1.0      0.0      0.0    0.0      0.0   \n",
       "65859           12139            1.0      0.0      0.0    0.0      0.0   \n",
       "65860           12139            1.0      0.0      1.0    0.0      0.0   \n",
       "\n",
       "       Serbia  Nigeria  France  Côte d'Ivoire  England  Türkiye  Cameroon  \\\n",
       "0         0.0      0.0     0.0            0.0      0.0      0.0       0.0   \n",
       "1         0.0      0.0     0.0            1.0      0.0      0.0       0.0   \n",
       "2         0.0      0.0     0.0            1.0      0.0      0.0       0.0   \n",
       "3         0.0      0.0     0.0            1.0      0.0      0.0       0.0   \n",
       "4         0.0      0.0     0.0            0.0      0.0      0.0       0.0   \n",
       "...       ...      ...     ...            ...      ...      ...       ...   \n",
       "65856     0.0      0.0     0.0            0.0      0.0      0.0       0.0   \n",
       "65857     0.0      0.0     0.0            0.0      0.0      0.0       0.0   \n",
       "65858     0.0      0.0     0.0            0.0      0.0      0.0       0.0   \n",
       "65859     0.0      0.0     0.0            0.0      0.0      0.0       0.0   \n",
       "65860     0.0      0.0     0.0            0.0      0.0      0.0       0.0   \n",
       "\n",
       "       Turkey  Ghana  Italy  Netherlands  Senegal  Germany  Sweden  Argentina  \\\n",
       "0         0.0    0.0    0.0          0.0      0.0      0.0     0.0        0.0   \n",
       "1         0.0    0.0    0.0          0.0      0.0      0.0     0.0        0.0   \n",
       "2         0.0    0.0    0.0          0.0      0.0      0.0     0.0        0.0   \n",
       "3         0.0    0.0    0.0          0.0      0.0      0.0     0.0        0.0   \n",
       "4         0.0    0.0    0.0          1.0      0.0      0.0     0.0        0.0   \n",
       "...       ...    ...    ...          ...      ...      ...     ...        ...   \n",
       "65856     0.0    0.0    0.0          0.0      0.0      0.0     0.0        0.0   \n",
       "65857     0.0    0.0    0.0          0.0      0.0      0.0     0.0        0.0   \n",
       "65858     0.0    0.0    0.0          0.0      0.0      0.0     0.0        0.0   \n",
       "65859     0.0    0.0    0.0          0.0      0.0      0.0     0.0        0.0   \n",
       "65860     0.0    0.0    0.0          0.0      0.0      0.0     0.0        0.0   \n",
       "\n",
       "       Brazil  Croatia  Portugal  Ukraine  games_position  \n",
       "0         0.0      0.0       0.0      1.0        0.001906  \n",
       "1         0.0      0.0       0.0      0.0        1.247540  \n",
       "2         0.0      0.0       0.0      0.0        0.503476  \n",
       "3         0.0      0.0       0.0      0.0        1.247540  \n",
       "4         0.0      0.0       0.0      0.0        3.126463  \n",
       "...       ...      ...       ...      ...             ...  \n",
       "65856     0.0      1.0       0.0      0.0        3.126463  \n",
       "65857     0.0      1.0       0.0      0.0        3.126463  \n",
       "65858     0.0      1.0       0.0      0.0        1.247540  \n",
       "65859     0.0      0.0       0.0      0.0        1.247540  \n",
       "65860     0.0      0.0       0.0      0.0        3.126463  \n",
       "\n",
       "[65861 rows x 50 columns]"
      ]
     },
     "execution_count": 14,
     "metadata": {},
     "output_type": "execute_result"
    }
   ],
   "source": [
    "dfFootballML"
   ]
  },
  {
   "cell_type": "markdown",
   "id": "f0bbff2d-2de5-427e-a158-df1b7c2a33b7",
   "metadata": {
    "tags": []
   },
   "source": [
    "## Ordinal encoding"
   ]
  },
  {
   "cell_type": "markdown",
   "id": "edc8e7e7-36b8-457b-b982-52f0e48efd6c",
   "metadata": {},
   "source": [
    "### Game position\n",
    "\n",
    "I will convert the game position to numbers based on the average goals scored."
   ]
  },
  {
   "cell_type": "code",
   "execution_count": 12,
   "id": "d6ebec13-dcfe-42c3-9afe-43b08acb9a98",
   "metadata": {},
   "outputs": [],
   "source": [
    "# Create mapping for each position with average goals scored\n",
    "mapping = pd.concat([dfFootballMLBench[['games_position']], dfFootballML[['goals_total']]], axis=1).groupby('games_position')\\\n",
    "    .mean('goals_total').to_dict()['goals_total']\n",
    "\n",
    "# Apply mapping\n",
    "mapped_data = dfFootballMLBench['games_position'].map(mapping)\n",
    "\n",
    "# Merge the result to the data frame\n",
    "dfFootballML = pd.concat([dfFootballML, mapped_data], axis=1)\n",
    "\n",
    "# Remove from the bench\n",
    "dfFootballMLBench = dfFootballMLBench.drop('games_position', axis=1)"
   ]
  },
  {
   "cell_type": "markdown",
   "id": "faa1ffa7-e7e7-402c-9110-23a31efe00ee",
   "metadata": {
    "tags": []
   },
   "source": [
    "# Modeling\n",
    "\n",
    "I will try to use differnet models, features, approaches. I will start building from the basic to more advanced."
   ]
  },
  {
   "cell_type": "code",
   "execution_count": 222,
   "id": "02dfe57c-4522-4c8d-9bf0-830decde9d7f",
   "metadata": {},
   "outputs": [
    {
     "data": {
      "text/html": [
       "<div>\n",
       "<style scoped>\n",
       "    .dataframe tbody tr th:only-of-type {\n",
       "        vertical-align: middle;\n",
       "    }\n",
       "\n",
       "    .dataframe tbody tr th {\n",
       "        vertical-align: top;\n",
       "    }\n",
       "\n",
       "    .dataframe thead th {\n",
       "        text-align: right;\n",
       "    }\n",
       "</style>\n",
       "<table border=\"1\" class=\"dataframe\">\n",
       "  <thead>\n",
       "    <tr style=\"text-align: right;\">\n",
       "      <th></th>\n",
       "    </tr>\n",
       "  </thead>\n",
       "  <tbody>\n",
       "    <tr>\n",
       "      <th>Number of features</th>\n",
       "    </tr>\n",
       "    <tr>\n",
       "      <th>Scaling</th>\n",
       "    </tr>\n",
       "    <tr>\n",
       "      <th>Feature enginnering</th>\n",
       "    </tr>\n",
       "    <tr>\n",
       "      <th>Hyper-parameters tuning</th>\n",
       "    </tr>\n",
       "    <tr>\n",
       "      <th>Feature selection</th>\n",
       "    </tr>\n",
       "    <tr>\n",
       "      <th>Train score</th>\n",
       "    </tr>\n",
       "    <tr>\n",
       "      <th>Test score</th>\n",
       "    </tr>\n",
       "    <tr>\n",
       "      <th>Learning time</th>\n",
       "    </tr>\n",
       "    <tr>\n",
       "      <th>Prediction time</th>\n",
       "    </tr>\n",
       "    <tr>\n",
       "      <th>Other changes</th>\n",
       "    </tr>\n",
       "  </tbody>\n",
       "</table>\n",
       "</div>"
      ],
      "text/plain": [
       "Empty DataFrame\n",
       "Columns: []\n",
       "Index: [Number of features, Scaling, Feature enginnering, Hyper-parameters tuning, Feature selection, Train score, Test score, Learning time, Prediction time, Other changes]"
      ]
     },
     "execution_count": 222,
     "metadata": {},
     "output_type": "execute_result"
    }
   ],
   "source": [
    "dfModelSummary"
   ]
  },
  {
   "cell_type": "markdown",
   "id": "e1f8aac4-4f47-485a-8db8-3a4cf503b6ed",
   "metadata": {
    "tags": []
   },
   "source": [
    "## Dummy regressor\n",
    "\n",
    "Very simple model justs to create a baseline."
   ]
  },
  {
   "cell_type": "markdown",
   "id": "bc55687b-4915-4023-b265-41da3f2ebc4e",
   "metadata": {
    "tags": []
   },
   "source": [
    "### 0th iteration"
   ]
  },
  {
   "cell_type": "markdown",
   "id": "7a8514ff-0f4c-4c8d-86d2-da125481a6c4",
   "metadata": {},
   "source": [
    "Run the model"
   ]
  },
  {
   "cell_type": "code",
   "execution_count": 15,
   "id": "735542dc-ebe9-4d35-98f4-9162dd5f14b1",
   "metadata": {},
   "outputs": [],
   "source": [
    "# Build the model\n",
    "DummyRegressionModel = model(DummyRegressor(strategy=\"quantile\", quantile=0.5), dfFootballML, None)\n",
    "\n",
    "# Fit the model\n",
    "DummyRegressionModel.fit()\n",
    "\n",
    "# Predict based on the model\n",
    "DummyRegressionModel.predict()"
   ]
  },
  {
   "cell_type": "markdown",
   "id": "910cdb18-61bc-40e1-9e80-4ebcf79ef08b",
   "metadata": {},
   "source": [
    "Evaluate the results"
   ]
  },
  {
   "cell_type": "code",
   "execution_count": 16,
   "id": "2d61ab8f-4597-45de-8fbb-4d4d61723827",
   "metadata": {},
   "outputs": [
    {
     "name": "stdout",
     "output_type": "stream",
     "text": [
      "Train score: -0.2004\n",
      "Test score: -0.1943\n"
     ]
    }
   ],
   "source": [
    "print(f'Train score: {DummyRegressionModel.score(\"train\")}')\n",
    "print(f'Test score: {DummyRegressionModel.score(\"test\")}')"
   ]
  },
  {
   "cell_type": "markdown",
   "id": "97d36b1f-e613-4bac-a5c1-51e2847a47f9",
   "metadata": {
    "tags": []
   },
   "source": [
    "#### Conclusion\n",
    "\n",
    "> - The model is very basic and can't even be used as a base one. I will use a Linear Regression as a base model."
   ]
  },
  {
   "cell_type": "markdown",
   "id": "156c0fdb-39be-4fbf-963b-14bc006da21a",
   "metadata": {
    "tags": []
   },
   "source": [
    "## Linear regression"
   ]
  },
  {
   "cell_type": "markdown",
   "id": "c5a64dff-6c2f-4be2-af5c-c67cac59d9b2",
   "metadata": {
    "tags": []
   },
   "source": [
    "### 1st iteration\n",
    "\n",
    "The initial run."
   ]
  },
  {
   "cell_type": "code",
   "execution_count": 20,
   "id": "a8bed9cd-ef9b-4439-80d2-40aa6a2a8a25",
   "metadata": {},
   "outputs": [],
   "source": [
    "# Build the model\n",
    "LinearRegressionModel = model(LinearRegression(), dfFootballML, None)\n",
    "\n",
    "# Fit the model\n",
    "LinearRegressionModel.fit()\n",
    "\n",
    "# Predict based on the model\n",
    "LinearRegressionModel.predict()\n",
    "\n",
    "# Save the results\n",
    "LinearRegressionModel.save('Linear regression', '1.0', scale='-', featureE='-', hyper='-', featureS='-')"
   ]
  },
  {
   "cell_type": "markdown",
   "id": "6c9c6003-821a-4015-9c02-c27240829ea0",
   "metadata": {
    "tags": []
   },
   "source": [
    "Evaluate the results"
   ]
  },
  {
   "cell_type": "code",
   "execution_count": 21,
   "id": "007a9175-14b6-4e98-a74b-78f429ca8e48",
   "metadata": {},
   "outputs": [
    {
     "data": {
      "text/html": [
       "<div>\n",
       "<style scoped>\n",
       "    .dataframe tbody tr th:only-of-type {\n",
       "        vertical-align: middle;\n",
       "    }\n",
       "\n",
       "    .dataframe tbody tr th {\n",
       "        vertical-align: top;\n",
       "    }\n",
       "\n",
       "    .dataframe thead th {\n",
       "        text-align: right;\n",
       "    }\n",
       "</style>\n",
       "<table border=\"1\" class=\"dataframe\">\n",
       "  <thead>\n",
       "    <tr style=\"text-align: right;\">\n",
       "      <th></th>\n",
       "      <th>Linear regression 1.0</th>\n",
       "    </tr>\n",
       "  </thead>\n",
       "  <tbody>\n",
       "    <tr>\n",
       "      <th>Number of features</th>\n",
       "      <td>49</td>\n",
       "    </tr>\n",
       "    <tr>\n",
       "      <th>Scaling</th>\n",
       "      <td>-</td>\n",
       "    </tr>\n",
       "    <tr>\n",
       "      <th>Feature enginnering</th>\n",
       "      <td>-</td>\n",
       "    </tr>\n",
       "    <tr>\n",
       "      <th>Hyper-parameters tuning</th>\n",
       "      <td>-</td>\n",
       "    </tr>\n",
       "    <tr>\n",
       "      <th>Feature selection</th>\n",
       "      <td>-</td>\n",
       "    </tr>\n",
       "    <tr>\n",
       "      <th>Train score</th>\n",
       "      <td>0.6476</td>\n",
       "    </tr>\n",
       "    <tr>\n",
       "      <th>Test score</th>\n",
       "      <td>0.6513</td>\n",
       "    </tr>\n",
       "    <tr>\n",
       "      <th>Learning time</th>\n",
       "      <td>0.0593</td>\n",
       "    </tr>\n",
       "    <tr>\n",
       "      <th>Prediction time</th>\n",
       "      <td>0.0073</td>\n",
       "    </tr>\n",
       "    <tr>\n",
       "      <th>Other changes</th>\n",
       "      <td>NaN</td>\n",
       "    </tr>\n",
       "  </tbody>\n",
       "</table>\n",
       "</div>"
      ],
      "text/plain": [
       "                        Linear regression 1.0\n",
       "Number of features                         49\n",
       "Scaling                                     -\n",
       "Feature enginnering                         -\n",
       "Hyper-parameters tuning                     -\n",
       "Feature selection                           -\n",
       "Train score                            0.6476\n",
       "Test score                             0.6513\n",
       "Learning time                          0.0593\n",
       "Prediction time                        0.0073\n",
       "Other changes                             NaN"
      ]
     },
     "execution_count": 21,
     "metadata": {},
     "output_type": "execute_result"
    }
   ],
   "source": [
    "dfModelSummary"
   ]
  },
  {
   "cell_type": "markdown",
   "id": "2d348626-b99a-48ca-8a6f-e9bd6055416f",
   "metadata": {},
   "source": [
    "#### Conclusion\n",
    "\n",
    "> - The very first run, nothing to compare with.\n",
    "> - The model explains at least 62% of the data. Not bad, let's try to improve it."
   ]
  },
  {
   "cell_type": "markdown",
   "id": "c09b9a1e-d19b-4de0-abfe-3a780fba2a0e",
   "metadata": {
    "tags": []
   },
   "source": [
    "### 2nd iteration\n",
    "#### KBest\n",
    "\n",
    "Let's apply feature selection. I will use K best for that. I will be able to find the best features and cross-validate to find the best set of features.\n",
    "\n",
    "First of all, let's compare the features in terms of scores."
   ]
  },
  {
   "cell_type": "code",
   "execution_count": 22,
   "id": "32b82ff9-1cb1-4e5a-9474-6f59c457c845",
   "metadata": {},
   "outputs": [
    {
     "data": {
      "text/plain": [
       "[Text(0.5, 1.0, 'Features scores comparison')]"
      ]
     },
     "execution_count": 22,
     "metadata": {},
     "output_type": "execute_result"
    },
    {
     "data": {
      "image/png": "[encoded data removed]",
      "text/plain": [
       "<Figure size 2000x500 with 1 Axes>"
      ]
     },
     "metadata": {},
     "output_type": "display_data"
    }
   ],
   "source": [
    "X = dfFootballML.drop('goals_total', axis=1)\n",
    "\n",
    "y = dfFootballML.goals_total\n",
    "\n",
    "KBest = SelectKBest(f_regression).fit(X, y)\n",
    "\n",
    "dfKBest = pd.DataFrame({'Score': KBest.scores_, 'Feature': X.columns.to_list()})\n",
    "\n",
    "sns.barplot(x=dfKBest.Score, y=dfKBest.Feature).set(title='Features scores comparison')"
   ]
  },
  {
   "cell_type": "markdown",
   "id": "9abd6fc7-60bd-419b-aaee-c3eb173c6208",
   "metadata": {},
   "source": [
    "We can distinguish between low and high-performing features. As you can see, there are a lot of features with low scores. Now I will perform a cross-validation to find how many of the best will return the best score."
   ]
  },
  {
   "cell_type": "code",
   "execution_count": 23,
   "id": "b44b325e-c3cf-4374-b64f-245a877bae0e",
   "metadata": {},
   "outputs": [
    {
     "data": {
      "text/plain": [
       "[Text(0.5, 1.0, 'Score cross-validation based on K best features')]"
      ]
     },
     "execution_count": 23,
     "metadata": {},
     "output_type": "execute_result"
    },
    {
     "data": {
      "image/png": "[encoded data removed]",
      "text/plain": [
       "<Figure size 2000x500 with 1 Axes>"
      ]
     },
     "metadata": {},
     "output_type": "display_data"
    }
   ],
   "source": [
    "listScore = []\n",
    "listType = []\n",
    "listK = []\n",
    "\n",
    "for i in range(len(X.columns)):\n",
    "    \n",
    "    KBest = SelectKBest(f_regression, k=i+1).fit(X, y)\n",
    "    Xnew = X.columns[KBest.get_support()].to_list()\n",
    "    Xnew.append('goals_total')\n",
    "    \n",
    "    # Build the model\n",
    "    LinearRegressionModel = model(LinearRegression(), dfFootballML[Xnew], None)\n",
    "\n",
    "    # Fit the model\n",
    "    LinearRegressionModel.fit()\n",
    "\n",
    "    # Predict based on the model\n",
    "    LinearRegressionModel.predict()\n",
    "    \n",
    "    # Save the results for plotting\n",
    "    listScore.append(LinearRegressionModel.score('train'))\n",
    "    listType.append('train')\n",
    "    listK.append(i+1)\n",
    "    listScore.append(LinearRegressionModel.score('test'))\n",
    "    listType.append('test')\n",
    "    listK.append(i+1)\n",
    "\n",
    "# Define the data frame for plotting\n",
    "dfTempLinePlot = pd.DataFrame({'K': listK, 'Score': listScore, 'Type': listType})\n",
    "\n",
    "# Plot the results\n",
    "sns.lineplot(x=dfTempLinePlot.K, y=dfTempLinePlot.Score, hue=dfTempLinePlot.Type)\\\n",
    "    .set(title='Score cross-validation based on K best features')"
   ]
  },
  {
   "cell_type": "markdown",
   "id": "29a0f3fe-41b2-461b-b33d-c07ba339a38e",
   "metadata": {},
   "source": [
    "The best result was produced with the maximum number of features."
   ]
  },
  {
   "cell_type": "code",
   "execution_count": 229,
   "id": "32f51590-118c-4308-a00f-b9c480b5f20a",
   "metadata": {},
   "outputs": [],
   "source": [
    "# Build the model\n",
    "LinearRegressionModel = model(LinearRegression(), dfFootballML, None)\n",
    "\n",
    "# Fit the model\n",
    "LinearRegressionModel.fit()\n",
    "\n",
    "# Predict based on the model\n",
    "LinearRegressionModel.predict()\n",
    "\n",
    "# Save the results\n",
    "LinearRegressionModel.save('Linear regression', '1.1', '-', '-', '-', 'KBest')"
   ]
  },
  {
   "cell_type": "markdown",
   "id": "8c0f14ef-bb45-4920-876b-5751fdad56aa",
   "metadata": {},
   "source": [
    "Evaluate the results"
   ]
  },
  {
   "cell_type": "code",
   "execution_count": 230,
   "id": "f42f9858-9cc2-49c4-bff2-eae547ecfc76",
   "metadata": {},
   "outputs": [
    {
     "data": {
      "text/html": [
       "<div>\n",
       "<style scoped>\n",
       "    .dataframe tbody tr th:only-of-type {\n",
       "        vertical-align: middle;\n",
       "    }\n",
       "\n",
       "    .dataframe tbody tr th {\n",
       "        vertical-align: top;\n",
       "    }\n",
       "\n",
       "    .dataframe thead th {\n",
       "        text-align: right;\n",
       "    }\n",
       "</style>\n",
       "<table border=\"1\" class=\"dataframe\">\n",
       "  <thead>\n",
       "    <tr style=\"text-align: right;\">\n",
       "      <th></th>\n",
       "      <th>Linear regression 1.0</th>\n",
       "      <th>Linear regression 1.1</th>\n",
       "    </tr>\n",
       "  </thead>\n",
       "  <tbody>\n",
       "    <tr>\n",
       "      <th>Number of features</th>\n",
       "      <td>24.0</td>\n",
       "      <td>24.0</td>\n",
       "    </tr>\n",
       "    <tr>\n",
       "      <th>Scaling</th>\n",
       "      <td>-</td>\n",
       "      <td>-</td>\n",
       "    </tr>\n",
       "    <tr>\n",
       "      <th>Feature enginnering</th>\n",
       "      <td>-</td>\n",
       "      <td>-</td>\n",
       "    </tr>\n",
       "    <tr>\n",
       "      <th>Hyper-parameters tuning</th>\n",
       "      <td>-</td>\n",
       "      <td>-</td>\n",
       "    </tr>\n",
       "    <tr>\n",
       "      <th>Feature selection</th>\n",
       "      <td>-</td>\n",
       "      <td>KBest</td>\n",
       "    </tr>\n",
       "    <tr>\n",
       "      <th>Train score</th>\n",
       "      <td>0.6261</td>\n",
       "      <td>0.6261</td>\n",
       "    </tr>\n",
       "    <tr>\n",
       "      <th>Test score</th>\n",
       "      <td>0.6316</td>\n",
       "      <td>0.6316</td>\n",
       "    </tr>\n",
       "    <tr>\n",
       "      <th>Learning time</th>\n",
       "      <td>0.01</td>\n",
       "      <td>0.0128</td>\n",
       "    </tr>\n",
       "    <tr>\n",
       "      <th>Prediction time</th>\n",
       "      <td>0.003</td>\n",
       "      <td>0.0029</td>\n",
       "    </tr>\n",
       "    <tr>\n",
       "      <th>Other changes</th>\n",
       "      <td>NaN</td>\n",
       "      <td>NaN</td>\n",
       "    </tr>\n",
       "  </tbody>\n",
       "</table>\n",
       "</div>"
      ],
      "text/plain": [
       "                        Linear regression 1.0 Linear regression 1.1\n",
       "Number of features                       24.0                  24.0\n",
       "Scaling                                     -                     -\n",
       "Feature enginnering                         -                     -\n",
       "Hyper-parameters tuning                     -                     -\n",
       "Feature selection                           -                 KBest\n",
       "Train score                            0.6261                0.6261\n",
       "Test score                             0.6316                0.6316\n",
       "Learning time                            0.01                0.0128\n",
       "Prediction time                         0.003                0.0029\n",
       "Other changes                             NaN                   NaN"
      ]
     },
     "execution_count": 230,
     "metadata": {},
     "output_type": "execute_result"
    }
   ],
   "source": [
    "dfModelSummary"
   ]
  },
  {
   "cell_type": "markdown",
   "id": "fa9da333-26c7-4679-a79c-aa9b32d64b0d",
   "metadata": {},
   "source": [
    "#### Conclusion:\n",
    "\n",
    "> - The result is the same, as to get the best score we need to use all features."
   ]
  },
  {
   "cell_type": "markdown",
   "id": "614f719c-f807-4159-b861-60d6ad2ac715",
   "metadata": {},
   "source": [
    "### 3rd iteration\n",
    "#### Multivariate Feature Selection"
   ]
  },
  {
   "cell_type": "code",
   "execution_count": null,
   "id": "8618454d-b3b5-49c7-9665-aceb5c463513",
   "metadata": {},
   "outputs": [],
   "source": []
  },
  {
   "cell_type": "code",
   "execution_count": null,
   "id": "3a88ffef-df88-4fd3-9a4a-cd187117ae28",
   "metadata": {},
   "outputs": [],
   "source": []
  },
  {
   "cell_type": "markdown",
   "id": "f23e4c6d-7340-409a-a87d-a30606f75335",
   "metadata": {},
   "source": [
    "### 4th iteration\n",
    "#### Regularization"
   ]
  },
  {
   "cell_type": "code",
   "execution_count": null,
   "id": "e18c01d2-3383-4585-b6df-41a22198c543",
   "metadata": {},
   "outputs": [],
   "source": []
  },
  {
   "cell_type": "code",
   "execution_count": null,
   "id": "48d966aa-f056-4967-97c8-2453d25eb3cb",
   "metadata": {},
   "outputs": [],
   "source": []
  },
  {
   "cell_type": "code",
   "execution_count": null,
   "id": "afa8362a-1a58-4b79-827c-17eee534ccf4",
   "metadata": {},
   "outputs": [],
   "source": []
  },
  {
   "cell_type": "markdown",
   "id": "5a1b4e77-eab6-4ca6-9297-a6b9567b0b91",
   "metadata": {},
   "source": [
    "### 5th iteration\n",
    "#### PCA"
   ]
  },
  {
   "cell_type": "code",
   "execution_count": null,
   "id": "8d2765f1-bc83-4fdd-8e4c-c54eeb4b3a5c",
   "metadata": {},
   "outputs": [],
   "source": []
  },
  {
   "cell_type": "markdown",
   "id": "c92d5a13-35b7-4d0a-9da9-447eaf6f0a68",
   "metadata": {},
   "source": [
    "### 6th iteration\n",
    "\n",
    "I will perform the scaling of the features to improve the result."
   ]
  },
  {
   "cell_type": "markdown",
   "id": "d2e2e322-da47-4ddd-b362-11dbf1634d98",
   "metadata": {},
   "source": [
    "Define the summary parameters"
   ]
  },
  {
   "cell_type": "markdown",
   "id": "9572c2f7-df2f-417e-b7c9-4f8e1ed8c5d6",
   "metadata": {},
   "source": [
    "Run the model"
   ]
  },
  {
   "cell_type": "code",
   "execution_count": 26,
   "id": "bb08c1cf-20b1-4424-acbb-aa1e6326c82a",
   "metadata": {},
   "outputs": [],
   "source": [
    "# Build the model\n",
    "LinearRegressionModel = model(LinearRegression(), dfFootballML, StandardScaler())\n",
    "\n",
    "# Fit the model\n",
    "LinearRegressionModel.fit()\n",
    "\n",
    "# Predict based on the model\n",
    "LinearRegressionModel.predict()\n",
    "\n",
    "# Save the results\n",
    "LinearRegressionModel.save('Linear regression', '1.5', 'Yes', '-', '-', '-')"
   ]
  },
  {
   "cell_type": "markdown",
   "id": "d4036e3f-0e0f-445f-9a29-209c89718676",
   "metadata": {},
   "source": [
    "Evaluate the results"
   ]
  },
  {
   "cell_type": "code",
   "execution_count": 27,
   "id": "01be0ce4-4be6-4bd2-8e77-2e65093dc96e",
   "metadata": {},
   "outputs": [
    {
     "data": {
      "text/html": [
       "<div>\n",
       "<style scoped>\n",
       "    .dataframe tbody tr th:only-of-type {\n",
       "        vertical-align: middle;\n",
       "    }\n",
       "\n",
       "    .dataframe tbody tr th {\n",
       "        vertical-align: top;\n",
       "    }\n",
       "\n",
       "    .dataframe thead th {\n",
       "        text-align: right;\n",
       "    }\n",
       "</style>\n",
       "<table border=\"1\" class=\"dataframe\">\n",
       "  <thead>\n",
       "    <tr style=\"text-align: right;\">\n",
       "      <th></th>\n",
       "      <th>Linear regression 1.0</th>\n",
       "      <th>Linear regression 1.2</th>\n",
       "      <th>Linear regression 1.5</th>\n",
       "    </tr>\n",
       "  </thead>\n",
       "  <tbody>\n",
       "    <tr>\n",
       "      <th>Number of features</th>\n",
       "      <td>49</td>\n",
       "      <td>NaN</td>\n",
       "      <td>49.0</td>\n",
       "    </tr>\n",
       "    <tr>\n",
       "      <th>Scaling</th>\n",
       "      <td>-</td>\n",
       "      <td>NaN</td>\n",
       "      <td>Yes</td>\n",
       "    </tr>\n",
       "    <tr>\n",
       "      <th>Feature enginnering</th>\n",
       "      <td>-</td>\n",
       "      <td>NaN</td>\n",
       "      <td>-</td>\n",
       "    </tr>\n",
       "    <tr>\n",
       "      <th>Hyper-parameters tuning</th>\n",
       "      <td>-</td>\n",
       "      <td>NaN</td>\n",
       "      <td>-</td>\n",
       "    </tr>\n",
       "    <tr>\n",
       "      <th>Feature selection</th>\n",
       "      <td>-</td>\n",
       "      <td>NaN</td>\n",
       "      <td>-</td>\n",
       "    </tr>\n",
       "    <tr>\n",
       "      <th>Train score</th>\n",
       "      <td>0.6476</td>\n",
       "      <td>NaN</td>\n",
       "      <td>0.6476</td>\n",
       "    </tr>\n",
       "    <tr>\n",
       "      <th>Test score</th>\n",
       "      <td>0.6513</td>\n",
       "      <td>NaN</td>\n",
       "      <td>0.6513</td>\n",
       "    </tr>\n",
       "    <tr>\n",
       "      <th>Learning time</th>\n",
       "      <td>0.0593</td>\n",
       "      <td>NaN</td>\n",
       "      <td>0.0353</td>\n",
       "    </tr>\n",
       "    <tr>\n",
       "      <th>Prediction time</th>\n",
       "      <td>0.0073</td>\n",
       "      <td>NaN</td>\n",
       "      <td>0.0032</td>\n",
       "    </tr>\n",
       "    <tr>\n",
       "      <th>Other changes</th>\n",
       "      <td>NaN</td>\n",
       "      <td>NaN</td>\n",
       "      <td>NaN</td>\n",
       "    </tr>\n",
       "    <tr>\n",
       "      <th>number of features</th>\n",
       "      <td>NaN</td>\n",
       "      <td>49.0</td>\n",
       "      <td>NaN</td>\n",
       "    </tr>\n",
       "    <tr>\n",
       "      <th>scaling</th>\n",
       "      <td>NaN</td>\n",
       "      <td>Yes</td>\n",
       "      <td>NaN</td>\n",
       "    </tr>\n",
       "    <tr>\n",
       "      <th>transformation</th>\n",
       "      <td>NaN</td>\n",
       "      <td>-</td>\n",
       "      <td>NaN</td>\n",
       "    </tr>\n",
       "    <tr>\n",
       "      <th>hyper-parameters tuning</th>\n",
       "      <td>NaN</td>\n",
       "      <td>-</td>\n",
       "      <td>NaN</td>\n",
       "    </tr>\n",
       "  </tbody>\n",
       "</table>\n",
       "</div>"
      ],
      "text/plain": [
       "                        Linear regression 1.0 Linear regression 1.2  \\\n",
       "Number of features                         49                   NaN   \n",
       "Scaling                                     -                   NaN   \n",
       "Feature enginnering                         -                   NaN   \n",
       "Hyper-parameters tuning                     -                   NaN   \n",
       "Feature selection                           -                   NaN   \n",
       "Train score                            0.6476                   NaN   \n",
       "Test score                             0.6513                   NaN   \n",
       "Learning time                          0.0593                   NaN   \n",
       "Prediction time                        0.0073                   NaN   \n",
       "Other changes                             NaN                   NaN   \n",
       "number of features                        NaN                  49.0   \n",
       "scaling                                   NaN                   Yes   \n",
       "transformation                            NaN                     -   \n",
       "hyper-parameters tuning                   NaN                     -   \n",
       "\n",
       "                        Linear regression 1.5  \n",
       "Number of features                       49.0  \n",
       "Scaling                                   Yes  \n",
       "Feature enginnering                         -  \n",
       "Hyper-parameters tuning                     -  \n",
       "Feature selection                           -  \n",
       "Train score                            0.6476  \n",
       "Test score                             0.6513  \n",
       "Learning time                          0.0353  \n",
       "Prediction time                        0.0032  \n",
       "Other changes                             NaN  \n",
       "number of features                        NaN  \n",
       "scaling                                   NaN  \n",
       "transformation                            NaN  \n",
       "hyper-parameters tuning                   NaN  "
      ]
     },
     "execution_count": 27,
     "metadata": {},
     "output_type": "execute_result"
    }
   ],
   "source": [
    "dfModelSummary"
   ]
  },
  {
   "cell_type": "markdown",
   "id": "a30874d1-f159-4e93-9aa2-fa6aada644de",
   "metadata": {},
   "source": [
    "#### Conclusion\n",
    "\n",
    "> - I tried to apply scaling but it returned the same result. Hence we do not need to use scaling for this model."
   ]
  },
  {
   "cell_type": "markdown",
   "id": "78897ba0-eb04-4b66-880a-f507c3f4fed5",
   "metadata": {
    "tags": []
   },
   "source": [
    "## SGD regression"
   ]
  },
  {
   "cell_type": "markdown",
   "id": "da796eb0-91d8-4a39-8eee-35a2a3cfd93e",
   "metadata": {},
   "source": [
    "### 1st iteration\n",
    "\n",
    "I will run the regressor with the default parameters."
   ]
  },
  {
   "cell_type": "markdown",
   "id": "d78cd478-1467-4d7b-a4f8-da6e7d0baaf3",
   "metadata": {},
   "source": [
    "Define the summary parameters"
   ]
  },
  {
   "cell_type": "code",
   "execution_count": 145,
   "id": "bb9cc701-9043-463d-808a-dbcb0e5e1646",
   "metadata": {},
   "outputs": [],
   "source": [
    "modelSummary = 'SGD regression'\n",
    "\n",
    "modelVersion = '2.0'\n",
    "\n",
    "dfModelSummary.loc['number of features',modelSummary + ' ' + modelVersion] = dfFootballML.shape[1] - 1\n",
    "\n",
    "dfModelSummary.loc['scaling',modelSummary + ' ' + modelVersion] = '-'\n",
    "\n",
    "dfModelSummary.loc['transformation',modelSummary + ' ' + modelVersion] = '-'\n",
    "\n",
    "dfModelSummary.loc['hyper-parameters tuning',modelSummary + ' ' + modelVersion] = '-'"
   ]
  },
  {
   "cell_type": "markdown",
   "id": "ea2f3b70-6154-4109-9028-d0165e8ba3d7",
   "metadata": {},
   "source": [
    "Run the model"
   ]
  },
  {
   "cell_type": "code",
   "execution_count": 146,
   "id": "caf22b13-3b97-4d35-916f-c2038ccbf957",
   "metadata": {},
   "outputs": [],
   "source": [
    "# Build the model\n",
    "SGDRegressionModel = model(SGDRegressor(), dfFootballML, True)\n",
    "\n",
    "# Fit the model\n",
    "SGDRegressionModel.fit()\n",
    "\n",
    "# Predict based on the model\n",
    "SGDRegressionModel.predict()\n",
    "\n",
    "# Save the results\n",
    "SGDRegressionModel.save(modelSummary + ' ' + modelVersion)"
   ]
  },
  {
   "cell_type": "markdown",
   "id": "62a549e6-a7ce-4e6d-b4ea-f9a7a86c35f7",
   "metadata": {},
   "source": [
    "Evaluate the results"
   ]
  },
  {
   "cell_type": "code",
   "execution_count": 147,
   "id": "0b7105b8-4d36-4e9d-93a6-c48c8300d898",
   "metadata": {},
   "outputs": [
    {
     "data": {
      "text/html": [
       "<div>\n",
       "<style scoped>\n",
       "    .dataframe tbody tr th:only-of-type {\n",
       "        vertical-align: middle;\n",
       "    }\n",
       "\n",
       "    .dataframe tbody tr th {\n",
       "        vertical-align: top;\n",
       "    }\n",
       "\n",
       "    .dataframe thead th {\n",
       "        text-align: right;\n",
       "    }\n",
       "</style>\n",
       "<table border=\"1\" class=\"dataframe\">\n",
       "  <thead>\n",
       "    <tr style=\"text-align: right;\">\n",
       "      <th></th>\n",
       "      <th>Linear regression 1.0</th>\n",
       "      <th>Linear regression 1.1</th>\n",
       "      <th>Linear regression 1.2</th>\n",
       "      <th>SGD regression 2.0</th>\n",
       "    </tr>\n",
       "  </thead>\n",
       "  <tbody>\n",
       "    <tr>\n",
       "      <th>number of features</th>\n",
       "      <td>24.0</td>\n",
       "      <td>18.0</td>\n",
       "      <td>18.0</td>\n",
       "      <td>18.0</td>\n",
       "    </tr>\n",
       "    <tr>\n",
       "      <th>scaling</th>\n",
       "      <td>-</td>\n",
       "      <td>-</td>\n",
       "      <td>Yes</td>\n",
       "      <td>-</td>\n",
       "    </tr>\n",
       "    <tr>\n",
       "      <th>transformation</th>\n",
       "      <td>-</td>\n",
       "      <td>-</td>\n",
       "      <td>-</td>\n",
       "      <td>-</td>\n",
       "    </tr>\n",
       "    <tr>\n",
       "      <th>hyper-parameters tuning</th>\n",
       "      <td>-</td>\n",
       "      <td>-</td>\n",
       "      <td>-</td>\n",
       "      <td>-</td>\n",
       "    </tr>\n",
       "    <tr>\n",
       "      <th>train score</th>\n",
       "      <td>0.6261</td>\n",
       "      <td>0.6211</td>\n",
       "      <td>0.6211</td>\n",
       "      <td>0.6166</td>\n",
       "    </tr>\n",
       "    <tr>\n",
       "      <th>test score</th>\n",
       "      <td>0.6316</td>\n",
       "      <td>0.6264</td>\n",
       "      <td>0.6264</td>\n",
       "      <td>0.623</td>\n",
       "    </tr>\n",
       "    <tr>\n",
       "      <th>learning time</th>\n",
       "      <td>0.0289</td>\n",
       "      <td>0.0094</td>\n",
       "      <td>0.0126</td>\n",
       "      <td>0.0587</td>\n",
       "    </tr>\n",
       "    <tr>\n",
       "      <th>prediction time</th>\n",
       "      <td>0.0036</td>\n",
       "      <td>0.0022</td>\n",
       "      <td>0.0007</td>\n",
       "      <td>0.0017</td>\n",
       "    </tr>\n",
       "    <tr>\n",
       "      <th>other changes</th>\n",
       "      <td>NaN</td>\n",
       "      <td>NaN</td>\n",
       "      <td>NaN</td>\n",
       "      <td>NaN</td>\n",
       "    </tr>\n",
       "  </tbody>\n",
       "</table>\n",
       "</div>"
      ],
      "text/plain": [
       "                        Linear regression 1.0 Linear regression 1.1  \\\n",
       "number of features                       24.0                  18.0   \n",
       "scaling                                     -                     -   \n",
       "transformation                              -                     -   \n",
       "hyper-parameters tuning                     -                     -   \n",
       "train score                            0.6261                0.6211   \n",
       "test score                             0.6316                0.6264   \n",
       "learning time                          0.0289                0.0094   \n",
       "prediction time                        0.0036                0.0022   \n",
       "other changes                             NaN                   NaN   \n",
       "\n",
       "                        Linear regression 1.2 SGD regression 2.0  \n",
       "number of features                       18.0               18.0  \n",
       "scaling                                   Yes                  -  \n",
       "transformation                              -                  -  \n",
       "hyper-parameters tuning                     -                  -  \n",
       "train score                            0.6211             0.6166  \n",
       "test score                             0.6264              0.623  \n",
       "learning time                          0.0126             0.0587  \n",
       "prediction time                        0.0007             0.0017  \n",
       "other changes                             NaN                NaN  "
      ]
     },
     "execution_count": 147,
     "metadata": {},
     "output_type": "execute_result"
    }
   ],
   "source": [
    "dfModelSummary"
   ]
  },
  {
   "cell_type": "markdown",
   "id": "c72f08f7-207f-4c1c-9c83-5caa2db89532",
   "metadata": {},
   "source": [
    "#### Conclusion\n",
    "\n",
    "> - I got the same results as the linear model. However, this model supports hyper-parameters tunning. Let's apply them."
   ]
  },
  {
   "cell_type": "code",
   "execution_count": null,
   "id": "8aa56a53-2a88-481f-bb02-fadd95d6bc86",
   "metadata": {},
   "outputs": [],
   "source": []
  },
  {
   "cell_type": "code",
   "execution_count": null,
   "id": "2c369bfc-0e9d-4edb-b39b-eeacffa3717c",
   "metadata": {},
   "outputs": [],
   "source": []
  },
  {
   "cell_type": "code",
   "execution_count": null,
   "id": "7be5c9df-a892-49b9-a4fe-d4d2cedbea15",
   "metadata": {},
   "outputs": [],
   "source": []
  },
  {
   "cell_type": "code",
   "execution_count": null,
   "id": "183f9a55-8619-4e5e-b0f9-8ff90edab987",
   "metadata": {},
   "outputs": [],
   "source": []
  },
  {
   "cell_type": "code",
   "execution_count": null,
   "id": "ba50823c-1a03-48ce-9457-99c2d3892e02",
   "metadata": {},
   "outputs": [],
   "source": []
  },
  {
   "cell_type": "code",
   "execution_count": null,
   "id": "3e817c39-2a67-41c3-ae19-35ef4f3d745e",
   "metadata": {},
   "outputs": [],
   "source": []
  },
  {
   "cell_type": "code",
   "execution_count": null,
   "id": "9f45f647-d381-48a2-b515-70f62b5ec958",
   "metadata": {},
   "outputs": [],
   "source": []
  },
  {
   "cell_type": "markdown",
   "id": "a2f79f43-8461-42f1-aa5e-1755149569ab",
   "metadata": {},
   "source": [
    "## KNN regressor"
   ]
  },
  {
   "cell_type": "markdown",
   "id": "c1f91c88-6663-4f43-b4c7-4283ba20343d",
   "metadata": {},
   "source": [
    "## Decision tree regressor"
   ]
  },
  {
   "cell_type": "markdown",
   "id": "763342ce-6c24-45fa-9d9a-06b47e9d697e",
   "metadata": {},
   "source": [
    "## Random forest"
   ]
  },
  {
   "cell_type": "markdown",
   "id": "0f921422-f089-45fd-b092-cd24bbeea876",
   "metadata": {},
   "source": [
    "## SVN"
   ]
  },
  {
   "cell_type": "markdown",
   "id": "ad7c53fc-b421-41d6-906e-d960809ad477",
   "metadata": {},
   "source": [
    "## players/teams with a top/lowest number of goals scored/conceded in a single season"
   ]
  },
  {
   "cell_type": "markdown",
   "id": "bc233051-2363-4657-8000-ae3c1a1bce24",
   "metadata": {},
   "source": [
    "## compare leagues/seasons for total number of goals "
   ]
  },
  {
   "cell_type": "markdown",
   "id": "91480f05-a8f6-4454-b54a-bb3262aec5f4",
   "metadata": {
    "tags": []
   },
   "source": [
    "## Add the same set of features for each player but grouped for the team"
   ]
  },
  {
   "cell_type": "markdown",
   "id": "48300f98-b49a-41e3-97ea-0772a4611c79",
   "metadata": {},
   "source": [
    "\n",
    "# Other"
   ]
  },
  {
   "cell_type": "code",
   "execution_count": 83,
   "id": "fa754a0d-5e29-4bf1-b108-a7f7998d5a68",
   "metadata": {},
   "outputs": [
    {
     "data": {
      "text/html": [
       "<div>\n",
       "<style scoped>\n",
       "    .dataframe tbody tr th:only-of-type {\n",
       "        vertical-align: middle;\n",
       "    }\n",
       "\n",
       "    .dataframe tbody tr th {\n",
       "        vertical-align: top;\n",
       "    }\n",
       "\n",
       "    .dataframe thead th {\n",
       "        text-align: right;\n",
       "    }\n",
       "</style>\n",
       "<table border=\"1\" class=\"dataframe\">\n",
       "  <thead>\n",
       "    <tr style=\"text-align: right;\">\n",
       "      <th></th>\n",
       "      <th>goals_total</th>\n",
       "      <th>player_age</th>\n",
       "    </tr>\n",
       "  </thead>\n",
       "  <tbody>\n",
       "    <tr>\n",
       "      <th>goals_total</th>\n",
       "      <td>1.000000</td>\n",
       "      <td>0.137204</td>\n",
       "    </tr>\n",
       "    <tr>\n",
       "      <th>player_age</th>\n",
       "      <td>0.137204</td>\n",
       "      <td>1.000000</td>\n",
       "    </tr>\n",
       "  </tbody>\n",
       "</table>\n",
       "</div>"
      ],
      "text/plain": [
       "             goals_total  player_age\n",
       "goals_total     1.000000    0.137204\n",
       "player_age      0.137204    1.000000"
      ]
     },
     "execution_count": 83,
     "metadata": {},
     "output_type": "execute_result"
    }
   ],
   "source": [
    "df1 = pd.concat([dfFootballML[['goals_total']],dfFootballMLBench[['player_age']]**2], axis=1)\n",
    "\n",
    "df1.corr()"
   ]
  },
  {
   "cell_type": "code",
   "execution_count": 75,
   "id": "2d2983cb-6ede-4a48-9c00-ad73a2cdeca5",
   "metadata": {},
   "outputs": [
    {
     "data": {
      "text/plain": [
       "<AxesSubplot:xlabel='player_age', ylabel='goals_total'>"
      ]
     },
     "execution_count": 75,
     "metadata": {},
     "output_type": "execute_result"
    },
    {
     "data": {
      "image/png": "[encoded data removed]",
      "text/plain": [
       "<Figure size 640x480 with 1 Axes>"
      ]
     },
     "metadata": {},
     "output_type": "display_data"
    }
   ],
   "source": [
    "sns.scatterplot(y=dfFootballML['goals_total'],x=dfFootballMLBench['player_age']**2)"
   ]
  },
  {
   "cell_type": "code",
   "execution_count": 72,
   "id": "541175aa-0acb-4877-8387-b7e7d29f8d5e",
   "metadata": {},
   "outputs": [
    {
     "data": {
      "text/plain": [
       "0        6.082763\n",
       "1        5.916080\n",
       "2        5.744563\n",
       "3        4.472136\n",
       "4        4.472136\n",
       "           ...   \n",
       "65856    5.744563\n",
       "65857    5.916080\n",
       "65858    6.164414\n",
       "65859    5.567764\n",
       "65860    5.916080\n",
       "Name: player_age, Length: 65861, dtype: float64"
      ]
     },
     "execution_count": 72,
     "metadata": {},
     "output_type": "execute_result"
    }
   ],
   "source": [
    "np.sqrt(dfFootballMLBench['player_age'])"
   ]
  },
  {
   "cell_type": "code",
   "execution_count": 6,
   "id": "8bc1a813-aad4-45dc-9be9-40a53a9618e4",
   "metadata": {},
   "outputs": [],
   "source": [
    "y = dfFootballML['goals_total']\n",
    "\n",
    "# Define the features\n",
    "X = dfFootballML.drop(['goals_total'], axis=1)\n",
    "\n",
    "X_train, X_test, y_train, y_test = train_test_split(X, y, test_size=0.2, random_state=17)"
   ]
  },
  {
   "cell_type": "code",
   "execution_count": 47,
   "id": "4f28be23-0051-4245-a750-264aa2b5e97a",
   "metadata": {},
   "outputs": [
    {
     "data": {
      "text/html": [
       "<div>\n",
       "<style scoped>\n",
       "    .dataframe tbody tr th:only-of-type {\n",
       "        vertical-align: middle;\n",
       "    }\n",
       "\n",
       "    .dataframe tbody tr th {\n",
       "        vertical-align: top;\n",
       "    }\n",
       "\n",
       "    .dataframe thead th {\n",
       "        text-align: right;\n",
       "    }\n",
       "</style>\n",
       "<table border=\"1\" class=\"dataframe\">\n",
       "  <thead>\n",
       "    <tr style=\"text-align: right;\">\n",
       "      <th></th>\n",
       "      <th>X</th>\n",
       "      <th>y</th>\n",
       "    </tr>\n",
       "  </thead>\n",
       "  <tbody>\n",
       "    <tr>\n",
       "      <th>0</th>\n",
       "      <td>1</td>\n",
       "      <td>2</td>\n",
       "    </tr>\n",
       "    <tr>\n",
       "      <th>1</th>\n",
       "      <td>2</td>\n",
       "      <td>2</td>\n",
       "    </tr>\n",
       "    <tr>\n",
       "      <th>2</th>\n",
       "      <td>3</td>\n",
       "      <td>3</td>\n",
       "    </tr>\n",
       "    <tr>\n",
       "      <th>3</th>\n",
       "      <td>4</td>\n",
       "      <td>3</td>\n",
       "    </tr>\n",
       "    <tr>\n",
       "      <th>4</th>\n",
       "      <td>5</td>\n",
       "      <td>4</td>\n",
       "    </tr>\n",
       "  </tbody>\n",
       "</table>\n",
       "</div>"
      ],
      "text/plain": [
       "   X  y\n",
       "0  1  2\n",
       "1  2  2\n",
       "2  3  3\n",
       "3  4  3\n",
       "4  5  4"
      ]
     },
     "execution_count": 47,
     "metadata": {},
     "output_type": "execute_result"
    }
   ],
   "source": [
    "df = pd.DataFrame({'X':[1,2,3,4,5], 'y':[2,2,3,3,4]})\n",
    "\n",
    "X = df.drop('y', axis=1)\n",
    "\n",
    "y = df['y']\n",
    "\n",
    "X\n",
    "\n",
    "df"
   ]
  },
  {
   "cell_type": "code",
   "execution_count": 48,
   "id": "7ec9c41e-0fdc-4fbe-9627-db7d5f3aaacb",
   "metadata": {},
   "outputs": [
    {
     "name": "stdout",
     "output_type": "stream",
     "text": [
      "0.8928571428571428\n",
      "[0.5]\n"
     ]
    }
   ],
   "source": [
    "from sklearn.linear_model import LogisticRegression\n",
    "\n",
    "# no scaling\n",
    "model1 = LinearRegression()\n",
    "# model1 = LogisticRegression()\n",
    "\n",
    "model1.fit(X, y)\n",
    "\n",
    "print(model1.score(X, y))\n",
    "print(model1.coef_)"
   ]
  },
  {
   "cell_type": "code",
   "execution_count": 110,
   "id": "ed32a770-be15-45db-8468-977060feecbe",
   "metadata": {},
   "outputs": [
    {
     "data": {
      "text/plain": [
       "array([0.5])"
      ]
     },
     "execution_count": 110,
     "metadata": {},
     "output_type": "execute_result"
    }
   ],
   "source": [
    "model1.coef_"
   ]
  },
  {
   "cell_type": "code",
   "execution_count": 38,
   "id": "a0a61d29-cbf2-4088-bf3f-5505e70991ab",
   "metadata": {},
   "outputs": [
    {
     "name": "stdout",
     "output_type": "stream",
     "text": [
      "0.8928571428571429\n",
      "[0.70710678]\n"
     ]
    }
   ],
   "source": [
    "\n",
    "# scaling\n",
    "model2 = LinearRegression()\n",
    "# model2 = LogisticRegression()\n",
    "\n",
    "scaler = StandardScaler()\n",
    "# scaler = MinMaxScaler()\n",
    "scaler.fit(X)\n",
    "X_scaled = scaler.transform(X)\n",
    "# X_scaled_test = scaler.transform(X_test)\n",
    "\n",
    "model2_fit = model2.fit(X_scaled, y)\n",
    "\n",
    "print(model2_fit.score(X_scaled, y))\n",
    "print(model2.coef_)"
   ]
  },
  {
   "cell_type": "code",
   "execution_count": 63,
   "id": "5dd73cb8-2a8b-435b-9ce2-9d0537df931f",
   "metadata": {},
   "outputs": [
    {
     "data": {
      "text/plain": [
       "0   -1.414214\n",
       "1   -0.707107\n",
       "2    0.000000\n",
       "3    0.707107\n",
       "4    1.414214\n",
       "Name: 0, dtype: float64"
      ]
     },
     "execution_count": 63,
     "metadata": {},
     "output_type": "execute_result"
    }
   ],
   "source": [
    "pd.DataFrame(X_scaled)[0]"
   ]
  },
  {
   "cell_type": "code",
   "execution_count": 58,
   "id": "23b8309b-7b81-43e3-9ef2-1b2988742042",
   "metadata": {},
   "outputs": [
    {
     "data": {
      "text/plain": [
       "<AxesSubplot:xlabel='X', ylabel='y'>"
      ]
     },
     "execution_count": 58,
     "metadata": {},
     "output_type": "execute_result"
    },
    {
     "data": {
      "image/png": "[encoded data removed]",
      "text/plain": [
       "<Figure size 640x480 with 1 Axes>"
      ]
     },
     "metadata": {},
     "output_type": "display_data"
    }
   ],
   "source": [
    "sns.scatterplot(data=df,x='X',y='y')"
   ]
  },
  {
   "cell_type": "code",
   "execution_count": 64,
   "id": "091b3f58-72b9-4cb8-9e8a-12401a736735",
   "metadata": {},
   "outputs": [
    {
     "data": {
      "text/plain": [
       "<AxesSubplot:xlabel='0', ylabel='y'>"
      ]
     },
     "execution_count": 64,
     "metadata": {},
     "output_type": "execute_result"
    },
    {
     "data": {
      "image/png": "[encoded data removed]",
      "text/plain": [
       "<Figure size 640x480 with 1 Axes>"
      ]
     },
     "metadata": {},
     "output_type": "display_data"
    }
   ],
   "source": [
    "sns.scatterplot(x=pd.DataFrame(X_scaled)[0],y=df['y'])"
   ]
  },
  {
   "cell_type": "code",
   "execution_count": 19,
   "id": "8382f836-6a13-4e6e-923d-963183a220c7",
   "metadata": {},
   "outputs": [
    {
     "data": {
      "text/plain": [
       "[0, 3, 4, 5, 8, 9, 15, 22, 23, 30]"
      ]
     },
     "execution_count": 19,
     "metadata": {},
     "output_type": "execute_result"
    }
   ],
   "source": [
    "[0,3,4,5,8,9,15,22,23,30,35,40]"
   ]
  },
  {
   "cell_type": "code",
   "execution_count": 23,
   "id": "7f8ccf64-498c-4bec-866f-af718f95ab54",
   "metadata": {},
   "outputs": [
    {
     "data": {
      "text/plain": [
       "array([3, 1, 1, 3, 1, 6, 7, 1, 7])"
      ]
     },
     "execution_count": 23,
     "metadata": {},
     "output_type": "execute_result"
    }
   ],
   "source": [
    "np.ediff1d([0, 3, 4, 6, 7, 8, 9, 15, 22, 23, 30, ])"
   ]
  },
  {
   "cell_type": "code",
   "execution_count": 30,
   "id": "c1622cf0-8415-4882-a3b1-874cf37d3cc3",
   "metadata": {},
   "outputs": [
    {
     "name": "stdout",
     "output_type": "stream",
     "text": [
      "3\n",
      "4\n",
      "6\n",
      "7\n",
      "8\n",
      "15\n",
      "22\n",
      "23\n",
      "30\n",
      "-1\n"
     ]
    },
    {
     "data": {
      "text/plain": [
       "['0', '3->4', '6->8', '15', '22->23', '30']"
      ]
     },
     "execution_count": 30,
     "metadata": {},
     "output_type": "execute_result"
    }
   ],
   "source": []
  },
  {
   "cell_type": "code",
   "execution_count": null,
   "id": "70d9e79d-cb38-4d2e-9c74-c55eb53c141e",
   "metadata": {},
   "outputs": [],
   "source": []
  }
 ],
 "metadata": {
  "kernelspec": {
   "display_name": "Python 3 (ipykernel)",
   "language": "python",
   "name": "python3"
  },
  "language_info": {
   "codemirror_mode": {
    "name": "ipython",
    "version": 3
   },
   "file_extension": ".py",
   "mimetype": "text/x-python",
   "name": "python",
   "nbconvert_exporter": "python",
   "pygments_lexer": "ipython3",
   "version": "3.9.13"
  }
 },
 "nbformat": 4,
 "nbformat_minor": 5
}
