{
 "cells": [
  {
   "cell_type": "markdown",
   "id": "28a74971-e258-4c73-822a-63738dd5af68",
   "metadata": {},
   "source": [
    "# Data collection\n",
    "\n",
    "This notebook will be used to collect data using the API.\n",
    "\n",
    "API docs - https://www.api-football.com/documentation-v3"
   ]
  },
  {
   "cell_type": "markdown",
   "id": "bb28c2bf",
   "metadata": {},
   "source": [
    "# Libraries"
   ]
  },
  {
   "cell_type": "code",
   "execution_count": 2,
   "id": "41e8e3d7",
   "metadata": {},
   "outputs": [],
   "source": [
    "import requests\n",
    "import pandas as pd\n",
    "from pandas.io.json import json_normalize\n",
    "from pandasql import sqldf"
   ]
  },
  {
   "cell_type": "markdown",
   "id": "68358cd9",
   "metadata": {
    "tags": []
   },
   "source": [
    "# Functions"
   ]
  },
  {
   "cell_type": "code",
   "execution_count": 3,
   "id": "c4bafa93",
   "metadata": {},
   "outputs": [],
   "source": [
    "def api(param):\n",
    "    \n",
    "    # Define api url\n",
    "    url = 'https://api-football-v1.p.rapidapi.com/v3/' + param\n",
    "    \n",
    "    # Authentication\n",
    "    headers = {\n",
    "        \"X-RapidAPI-Key\": key,\n",
    "        \"X-RapidAPI-Host\": \"api-football-v1.p.rapidapi.com\"\n",
    "    }\n",
    "\n",
    "    response = requests.request(\"GET\", url, headers=headers)\n",
    "    \n",
    "    return response.json()"
   ]
  },
  {
   "cell_type": "markdown",
   "id": "082e7806-2749-4e2c-9f35-8adf1c6aaf64",
   "metadata": {},
   "source": [
    "# Initialization"
   ]
  },
  {
   "cell_type": "code",
   "execution_count": 4,
   "id": "51264f5c-ea6e-4e9a-b11f-9ce3d42f9eb6",
   "metadata": {},
   "outputs": [],
   "source": [
    "# Read api key\n",
    "with open('api-key', 'r') as f:\n",
    "    key = f.read()\n",
    "    \n",
    "# List of countries\n",
    "lstCount = ['France','Belgium','England','Germany','Italy','Netherlands','Portugal','Spain','Ukraine','Turkey']\n",
    "\n",
    "# List of leagues\n",
    "lstLeag = ['Premier League','La Liga','Serie A','Bundesliga','Ligue 1','Primeira Liga','Eredivisie','Süper Lig',\\\n",
    "           'Jupiler Pro League']"
   ]
  },
  {
   "cell_type": "markdown",
   "id": "477caf55-4c81-4a6b-bf4d-ee2c6b486e3b",
   "metadata": {},
   "source": [
    "# Load data"
   ]
  },
  {
   "cell_type": "markdown",
   "id": "6cf1b19a",
   "metadata": {
    "tags": []
   },
   "source": [
    "## Seasons"
   ]
  },
  {
   "cell_type": "code",
   "execution_count": 5,
   "id": "92aac681",
   "metadata": {},
   "outputs": [],
   "source": [
    "# Season start and end\n",
    "season_start_id = 2012\n",
    "season_end_id = 2021"
   ]
  },
  {
   "cell_type": "markdown",
   "id": "0fecc392",
   "metadata": {
    "tags": []
   },
   "source": [
    "## Leagues"
   ]
  },
  {
   "cell_type": "markdown",
   "id": "20a3963a-9022-4890-8e21-86ba2950528a",
   "metadata": {},
   "source": [
    "Run api"
   ]
  },
  {
   "cell_type": "code",
   "execution_count": 34,
   "id": "70f266a9",
   "metadata": {},
   "outputs": [],
   "source": [
    "jLeagues = api('leagues')"
   ]
  },
  {
   "cell_type": "markdown",
   "id": "b68bc632-ce09-46af-b881-cde641d6bed5",
   "metadata": {},
   "source": [
    "Transform into dataframe"
   ]
  },
  {
   "cell_type": "code",
   "execution_count": null,
   "id": "a72054c6",
   "metadata": {},
   "outputs": [],
   "source": [
    "# Normalize from json\n",
    "dfLeagues = pd.json_normalize(jLeagues['response'])\n",
    "\n",
    "# Rename columns\n",
    "dfLeagues.columns = dfLeagues.columns.str.replace('.', '_')\n",
    "\n",
    "# Filter leagues\n",
    "dfLeagues = dfLeagues[dfLeagues.league_name.isin(lstLeag) & dfLeagues.country_name.isin(lstCount)]\n",
    "\n",
    "# Save into file\n",
    "dfLeagues.drop('seasons', axis=1).to_csv('leagues.csv', index=False)\n",
    "\n",
    "# Get league id\n",
    "# league_id = dfLeagues[(dfLeagues['country_name'] == 'England')\\\n",
    "#                       & (dfLeagues['league_name'] == 'Premier League')]['league_id'].values[0]"
   ]
  },
  {
   "cell_type": "markdown",
   "id": "ff248cc6-d70e-4416-86d3-359728bda26a",
   "metadata": {},
   "source": [
    "## Teams"
   ]
  },
  {
   "cell_type": "code",
   "execution_count": null,
   "id": "d824082f-5dc7-4d91-8320-df39e5f42e5e",
   "metadata": {},
   "outputs": [],
   "source": [
    "# Get list of leagues\n",
    "dfLeagues = pd.read_csv('data/leagues.csv')\n",
    "listLeagues = dfLeagues['league_id'].to_list()\n",
    "\n",
    "# Initialise an empty data frame\n",
    "dfTeams = pd.DataFrame()\n",
    "\n",
    "# Clear log file\n",
    "open('log/teams.log', 'w').close()\n",
    "\n",
    "# Get teams for all seasons and all leagues\n",
    "for season_id in range(season_start_id, 2022):\n",
    "    for league_id in listLeagues:\n",
    "\n",
    "        # Run api\n",
    "        jTeams = api(f'teams?league={league_id}&season={season_id}')\n",
    "\n",
    "        # Normalize from json\n",
    "        dfTeamsTemp = pd.json_normalize(jTeams['response'])\n",
    "\n",
    "        # Rename columns\n",
    "        dfTeamsTemp.columns = dfTeamsTemp.columns.str.replace('.', '_')\n",
    "\n",
    "        # Add leage and season\n",
    "        dfTeamsTemp['league_id'] = league_id\n",
    "        dfTeamsTemp['season_id'] = season_id\n",
    "        \n",
    "        # Merge temp data to the main df\n",
    "        dfTeams = pd.concat([dfTeams,dfTeamsTemp])\n",
    "\n",
    "        # Log\n",
    "        with open('log/teams.log', 'a') as f:\n",
    "            f.write(f'season_id = {season_id}, league_id = {league_id}\\n')\n",
    "        \n",
    "# Save into file\n",
    "dfTeams.to_csv('teams.csv', index=False)"
   ]
  },
  {
   "cell_type": "markdown",
   "id": "d9b5638c-8832-4e15-8d22-e5abb3f2c378",
   "metadata": {
    "tags": []
   },
   "source": [
    "## Players statistics"
   ]
  },
  {
   "cell_type": "code",
   "execution_count": null,
   "id": "fbd8e616-1686-4a7c-b1e2-f6aab09b2646",
   "metadata": {},
   "outputs": [],
   "source": [
    "# Season start and end\n",
    "season_start_id = 2012\n",
    "season_end_id = 2021\n",
    "\n",
    "# Clear log file\n",
    "open('log/players.log', 'w').close()\n",
    "\n",
    "# Get list of leagues\n",
    "dfLeagues = pd.read_csv('raw_data/leagues.csv')\n",
    "listLeagues = dfLeagues['league_id'].to_list()\n",
    "\n",
    "# Get teams for all seasons and all leagues\n",
    "for season_id in range(season_start_id, 2022):\n",
    "    \n",
    "    # Initialise empty data frames\n",
    "    dfPlayers = pd.DataFrame()\n",
    "    dfPlayerStats = pd.DataFrame()\n",
    "    \n",
    "    for league_id in listLeagues:\n",
    "\n",
    "        # Get total number of pages\n",
    "        jPlayers = api(f'players?league={league_id}&season={season_id}')\n",
    "\n",
    "        # Get total number of pages\n",
    "        pages = jPlayers['paging']['total']\n",
    "\n",
    "        # Get all pages\n",
    "        for page_id in range(pages):\n",
    "\n",
    "            # Get current page\n",
    "            jPlayers = api(f'players?league={league_id}&season={season_id}&page={page_id+1}')\n",
    "\n",
    "            # Get number of records\n",
    "            records = len(jPlayers['response'])\n",
    "\n",
    "            # Initialise empty data frames\n",
    "            dfPlayersTemp = pd.DataFrame()\n",
    "            dfPlayerStatsTemp = pd.DataFrame()\n",
    "\n",
    "            # Get all records\n",
    "            for record_id in range(records):\n",
    "\n",
    "                # Get current page of players\n",
    "                dfPlayersTemp = pd.json_normalize(jPlayers['response']).iloc[[record_id]].drop('statistics', axis=1)\n",
    "\n",
    "                # Get current page of players' statistics\n",
    "                dfPlayerStatsTemp = pd.json_normalize(pd.json_normalize(jPlayers['response'])\\\n",
    "                                                        .iloc[[record_id]]['statistics'].iloc[0])\n",
    "\n",
    "                # Add player_id, league_id and season_id\n",
    "                player_id = dfPlayersTemp['player.id'].iloc[0]\n",
    "                dfPlayerStatsTemp['player_id'] = player_id\n",
    "                dfPlayersTemp['league_id'] = league_id\n",
    "                dfPlayersTemp['season_id'] = season_id\n",
    "                dfPlayerStatsTemp['season_id'] = season_id\n",
    "\n",
    "                # Merge the current page to the result dataframe\n",
    "                dfPlayers = pd.concat([dfPlayers, dfPlayersTemp])\n",
    "                dfPlayerStats = pd.concat([dfPlayerStats, dfPlayerStatsTemp])\n",
    "\n",
    "                # Log\n",
    "                with open('log/players.log', 'a') as f:\n",
    "                    f.write(f'season_id = {season_id}, league_id = {league_id}, player_id = {player_id}, page_id = {page_id + 1}, pages = {pages}\\n')\n",
    "\n",
    "    # Rename columns\n",
    "    dfPlayers.columns = dfPlayers.columns.str.replace('.', '_')\n",
    "    dfPlayerStats.columns = dfPlayerStats.columns.str.replace('.', '_')\n",
    "\n",
    "    # Save into file\n",
    "    dfPlayers.to_csv('players_' + str(season_id) + '.csv',index=False)\n",
    "    dfPlayerStats.to_csv('player_stats_' + str(season_id) + '.csv',index=False)"
   ]
  }
 ],
 "metadata": {
  "kernelspec": {
   "display_name": "football",
   "language": "python",
   "name": "football"
  },
  "language_info": {
   "codemirror_mode": {
    "name": "ipython",
    "version": 3
   },
   "file_extension": ".py",
   "mimetype": "text/x-python",
   "name": "python",
   "nbconvert_exporter": "python",
   "pygments_lexer": "ipython3",
   "version": "3.8.17"
  },
  "toc-autonumbering": true,
  "toc-showcode": true,
  "toc-showmarkdowntxt": false
 },
 "nbformat": 4,
 "nbformat_minor": 5
}
