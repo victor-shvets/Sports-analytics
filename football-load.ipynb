{
 "cells": [
  {
   "cell_type": "markdown",
   "id": "28a74971-e258-4c73-822a-63738dd5af68",
   "metadata": {},
   "source": [
    "# Data collection\n",
    "\n",
    "This notebook will be used to collect data using the API.\n",
    "\n",
    "API docs - https://www.api-football.com/documentation-v3"
   ]
  },
  {
   "cell_type": "markdown",
   "id": "bb28c2bf",
   "metadata": {},
   "source": [
    "# Libraries"
   ]
  },
  {
   "cell_type": "code",
   "execution_count": 2,
   "id": "41e8e3d7",
   "metadata": {},
   "outputs": [],
   "source": [
    "import requests\n",
    "import pandas as pd\n",
    "from pandas.io.json import json_normalize\n",
    "from pandasql import sqldf"
   ]
  },
  {
   "cell_type": "markdown",
   "id": "68358cd9",
   "metadata": {
    "tags": []
   },
   "source": [
    "# Functions"
   ]
  },
  {
   "cell_type": "code",
   "execution_count": 3,
   "id": "c4bafa93",
   "metadata": {},
   "outputs": [],
   "source": [
    "def api(param):\n",
    "    \n",
    "    # Define api url\n",
    "    url = 'https://api-football-v1.p.rapidapi.com/v3/' + param\n",
    "    \n",
    "    # Authentication\n",
    "    headers = {\n",
    "        \"X-RapidAPI-Key\": key,\n",
    "        \"X-RapidAPI-Host\": \"api-football-v1.p.rapidapi.com\"\n",
    "    }\n",
    "\n",
    "    response = requests.request(\"GET\", url, headers=headers)\n",
    "    \n",
    "    return response.json()"
   ]
  },
  {
   "cell_type": "markdown",
   "id": "082e7806-2749-4e2c-9f35-8adf1c6aaf64",
   "metadata": {},
   "source": [
    "# Initialization"
   ]
  },
  {
   "cell_type": "code",
   "execution_count": 4,
   "id": "51264f5c-ea6e-4e9a-b11f-9ce3d42f9eb6",
   "metadata": {},
   "outputs": [],
   "source": [
    "# Read api key\n",
    "with open('api-key', 'r') as f:\n",
    "    key = f.read()\n",
    "    \n",
    "# List of countries\n",
    "lstCount = ['France','Belgium','England','Germany','Italy','Netherlands','Portugal','Spain','Ukraine','Turkey']\n",
    "\n",
    "# List of leagues\n",
    "lstLeag = ['Premier League','La Liga','Serie A','Bundesliga','Ligue 1','Primeira Liga','Eredivisie','Süper Lig',\\\n",
    "           'Jupiler Pro League']"
   ]
  },
  {
   "cell_type": "markdown",
   "id": "477caf55-4c81-4a6b-bf4d-ee2c6b486e3b",
   "metadata": {},
   "source": [
    "# Load data"
   ]
  },
  {
   "cell_type": "markdown",
   "id": "6cf1b19a",
   "metadata": {
    "tags": []
   },
   "source": [
    "## Seasons"
   ]
  },
  {
   "cell_type": "code",
   "execution_count": 5,
   "id": "92aac681",
   "metadata": {},
   "outputs": [],
   "source": [
    "# Season start and end\n",
    "season_start_id = 2012\n",
    "season_end_id = 2021"
   ]
  },
  {
   "cell_type": "markdown",
   "id": "0fecc392",
   "metadata": {
    "tags": []
   },
   "source": [
    "## Leagues"
   ]
  },
  {
   "cell_type": "markdown",
   "id": "20a3963a-9022-4890-8e21-86ba2950528a",
   "metadata": {},
   "source": [
    "Run api"
   ]
  },
  {
   "cell_type": "code",
   "execution_count": 34,
   "id": "70f266a9",
   "metadata": {},
   "outputs": [],
   "source": [
    "jLeagues = api('leagues')"
   ]
  },
  {
   "cell_type": "markdown",
   "id": "b68bc632-ce09-46af-b881-cde641d6bed5",
   "metadata": {},
   "source": [
    "Transform into dataframe"
   ]
  },
  {
   "cell_type": "code",
   "execution_count": 228,
   "id": "a72054c6",
   "metadata": {},
   "outputs": [
    {
     "name": "stderr",
     "output_type": "stream",
     "text": [
      "/var/folders/hn/r6dxb61155x4z2mwg4dbmqtc0000gq/T/ipykernel_23302/200181813.py:5: FutureWarning: The default value of regex will change from True to False in a future version. In addition, single character regular expressions will *not* be treated as literal strings when regex=True.\n",
      "  dfLeagues.columns = dfLeagues.columns.str.replace('.', '_')\n"
     ]
    }
   ],
   "source": [
    "# Normalize from json\n",
    "dfLeagues = pd.json_normalize(jLeagues['response'])\n",
    "\n",
    "# Rename columns\n",
    "dfLeagues.columns = dfLeagues.columns.str.replace('.', '_')\n",
    "\n",
    "# Filter leagues\n",
    "dfLeagues = dfLeagues[dfLeagues.league_name.isin(lstLeag) & dfLeagues.country_name.isin(lstCount)]\n",
    "\n",
    "# Save into file\n",
    "dfLeagues.drop('seasons', axis=1).to_csv('leagues.csv', index=False)\n",
    "\n",
    "# Get league id\n",
    "# league_id = dfLeagues[(dfLeagues['country_name'] == 'England')\\\n",
    "#                       & (dfLeagues['league_name'] == 'Premier League')]['league_id'].values[0]"
   ]
  },
  {
   "cell_type": "markdown",
   "id": "ff248cc6-d70e-4416-86d3-359728bda26a",
   "metadata": {},
   "source": [
    "## Teams"
   ]
  },
  {
   "cell_type": "code",
   "execution_count": null,
   "id": "d824082f-5dc7-4d91-8320-df39e5f42e5e",
   "metadata": {},
   "outputs": [],
   "source": [
    "# Get list of leagues\n",
    "dfLeagues = pd.read_csv('data/leagues.csv')\n",
    "listLeagues = dfLeagues['league_id'].to_list()\n",
    "\n",
    "# Initialise an empty data frame\n",
    "dfTeams = pd.DataFrame()\n",
    "\n",
    "# Clear log file\n",
    "open('log/teams.log', 'w').close()\n",
    "\n",
    "# Get teams for all seasons and all leagues\n",
    "for season_id in range(season_start_id, 2022):\n",
    "    for league_id in listLeagues:\n",
    "\n",
    "        # Run api\n",
    "        jTeams = api(f'teams?league={league_id}&season={season_id}')\n",
    "\n",
    "        # Normalize from json\n",
    "        dfTeamsTemp = pd.json_normalize(jTeams['response'])\n",
    "\n",
    "        # Rename columns\n",
    "        dfTeamsTemp.columns = dfTeamsTemp.columns.str.replace('.', '_')\n",
    "\n",
    "        # Add leage and season\n",
    "        dfTeamsTemp['league_id'] = league_id\n",
    "        dfTeamsTemp['season_id'] = season_id\n",
    "        \n",
    "        # Merge temp data to the main df\n",
    "        dfTeams = pd.concat([dfTeams,dfTeamsTemp])\n",
    "\n",
    "        # Log\n",
    "        with open('log/teams.log', 'a') as f:\n",
    "            f.write(f'season_id = {season_id}, league_id = {league_id}\\n')\n",
    "        \n",
    "# Save into file\n",
    "dfTeams.to_csv('teams.csv', index=False)"
   ]
  },
  {
   "cell_type": "markdown",
   "id": "d9b5638c-8832-4e15-8d22-e5abb3f2c378",
   "metadata": {
    "tags": []
   },
   "source": [
    "## Players statistics"
   ]
  },
  {
   "cell_type": "code",
   "execution_count": 6,
   "id": "fbd8e616-1686-4a7c-b1e2-f6aab09b2646",
   "metadata": {},
   "outputs": [
    {
     "name": "stderr",
     "output_type": "stream",
     "text": [
      "/var/folders/hn/r6dxb61155x4z2mwg4dbmqtc0000gq/T/ipykernel_16809/570757893.py:66: FutureWarning: The default value of regex will change from True to False in a future version. In addition, single character regular expressions will *not* be treated as literal strings when regex=True.\n",
      "  dfPlayers.columns = dfPlayers.columns.str.replace('.', '_')\n",
      "/var/folders/hn/r6dxb61155x4z2mwg4dbmqtc0000gq/T/ipykernel_16809/570757893.py:67: FutureWarning: The default value of regex will change from True to False in a future version. In addition, single character regular expressions will *not* be treated as literal strings when regex=True.\n",
      "  dfPlayerStats.columns = dfPlayerStats.columns.str.replace('.', '_')\n",
      "/var/folders/hn/r6dxb61155x4z2mwg4dbmqtc0000gq/T/ipykernel_16809/570757893.py:66: FutureWarning: The default value of regex will change from True to False in a future version. In addition, single character regular expressions will *not* be treated as literal strings when regex=True.\n",
      "  dfPlayers.columns = dfPlayers.columns.str.replace('.', '_')\n",
      "/var/folders/hn/r6dxb61155x4z2mwg4dbmqtc0000gq/T/ipykernel_16809/570757893.py:67: FutureWarning: The default value of regex will change from True to False in a future version. In addition, single character regular expressions will *not* be treated as literal strings when regex=True.\n",
      "  dfPlayerStats.columns = dfPlayerStats.columns.str.replace('.', '_')\n",
      "/var/folders/hn/r6dxb61155x4z2mwg4dbmqtc0000gq/T/ipykernel_16809/570757893.py:66: FutureWarning: The default value of regex will change from True to False in a future version. In addition, single character regular expressions will *not* be treated as literal strings when regex=True.\n",
      "  dfPlayers.columns = dfPlayers.columns.str.replace('.', '_')\n",
      "/var/folders/hn/r6dxb61155x4z2mwg4dbmqtc0000gq/T/ipykernel_16809/570757893.py:67: FutureWarning: The default value of regex will change from True to False in a future version. In addition, single character regular expressions will *not* be treated as literal strings when regex=True.\n",
      "  dfPlayerStats.columns = dfPlayerStats.columns.str.replace('.', '_')\n",
      "/var/folders/hn/r6dxb61155x4z2mwg4dbmqtc0000gq/T/ipykernel_16809/570757893.py:66: FutureWarning: The default value of regex will change from True to False in a future version. In addition, single character regular expressions will *not* be treated as literal strings when regex=True.\n",
      "  dfPlayers.columns = dfPlayers.columns.str.replace('.', '_')\n",
      "/var/folders/hn/r6dxb61155x4z2mwg4dbmqtc0000gq/T/ipykernel_16809/570757893.py:67: FutureWarning: The default value of regex will change from True to False in a future version. In addition, single character regular expressions will *not* be treated as literal strings when regex=True.\n",
      "  dfPlayerStats.columns = dfPlayerStats.columns.str.replace('.', '_')\n",
      "/var/folders/hn/r6dxb61155x4z2mwg4dbmqtc0000gq/T/ipykernel_16809/570757893.py:66: FutureWarning: The default value of regex will change from True to False in a future version. In addition, single character regular expressions will *not* be treated as literal strings when regex=True.\n",
      "  dfPlayers.columns = dfPlayers.columns.str.replace('.', '_')\n",
      "/var/folders/hn/r6dxb61155x4z2mwg4dbmqtc0000gq/T/ipykernel_16809/570757893.py:67: FutureWarning: The default value of regex will change from True to False in a future version. In addition, single character regular expressions will *not* be treated as literal strings when regex=True.\n",
      "  dfPlayerStats.columns = dfPlayerStats.columns.str.replace('.', '_')\n",
      "/var/folders/hn/r6dxb61155x4z2mwg4dbmqtc0000gq/T/ipykernel_16809/570757893.py:66: FutureWarning: The default value of regex will change from True to False in a future version. In addition, single character regular expressions will *not* be treated as literal strings when regex=True.\n",
      "  dfPlayers.columns = dfPlayers.columns.str.replace('.', '_')\n",
      "/var/folders/hn/r6dxb61155x4z2mwg4dbmqtc0000gq/T/ipykernel_16809/570757893.py:67: FutureWarning: The default value of regex will change from True to False in a future version. In addition, single character regular expressions will *not* be treated as literal strings when regex=True.\n",
      "  dfPlayerStats.columns = dfPlayerStats.columns.str.replace('.', '_')\n",
      "/var/folders/hn/r6dxb61155x4z2mwg4dbmqtc0000gq/T/ipykernel_16809/570757893.py:66: FutureWarning: The default value of regex will change from True to False in a future version. In addition, single character regular expressions will *not* be treated as literal strings when regex=True.\n",
      "  dfPlayers.columns = dfPlayers.columns.str.replace('.', '_')\n",
      "/var/folders/hn/r6dxb61155x4z2mwg4dbmqtc0000gq/T/ipykernel_16809/570757893.py:67: FutureWarning: The default value of regex will change from True to False in a future version. In addition, single character regular expressions will *not* be treated as literal strings when regex=True.\n",
      "  dfPlayerStats.columns = dfPlayerStats.columns.str.replace('.', '_')\n",
      "/var/folders/hn/r6dxb61155x4z2mwg4dbmqtc0000gq/T/ipykernel_16809/570757893.py:66: FutureWarning: The default value of regex will change from True to False in a future version. In addition, single character regular expressions will *not* be treated as literal strings when regex=True.\n",
      "  dfPlayers.columns = dfPlayers.columns.str.replace('.', '_')\n",
      "/var/folders/hn/r6dxb61155x4z2mwg4dbmqtc0000gq/T/ipykernel_16809/570757893.py:67: FutureWarning: The default value of regex will change from True to False in a future version. In addition, single character regular expressions will *not* be treated as literal strings when regex=True.\n",
      "  dfPlayerStats.columns = dfPlayerStats.columns.str.replace('.', '_')\n",
      "/var/folders/hn/r6dxb61155x4z2mwg4dbmqtc0000gq/T/ipykernel_16809/570757893.py:66: FutureWarning: The default value of regex will change from True to False in a future version. In addition, single character regular expressions will *not* be treated as literal strings when regex=True.\n",
      "  dfPlayers.columns = dfPlayers.columns.str.replace('.', '_')\n",
      "/var/folders/hn/r6dxb61155x4z2mwg4dbmqtc0000gq/T/ipykernel_16809/570757893.py:67: FutureWarning: The default value of regex will change from True to False in a future version. In addition, single character regular expressions will *not* be treated as literal strings when regex=True.\n",
      "  dfPlayerStats.columns = dfPlayerStats.columns.str.replace('.', '_')\n"
     ]
    }
   ],
   "source": [
    "# Season start and end\n",
    "season_start_id = 2012\n",
    "season_end_id = 2021\n",
    "\n",
    "# Clear log file\n",
    "open('log/players.log', 'w').close()\n",
    "\n",
    "# Get list of leagues\n",
    "dfLeagues = pd.read_csv('raw_data/leagues.csv')\n",
    "listLeagues = dfLeagues['league_id'].to_list()\n",
    "\n",
    "# Get teams for all seasons and all leagues\n",
    "for season_id in range(season_start_id, 2022):\n",
    "    \n",
    "    # Initialise empty data frames\n",
    "    dfPlayers = pd.DataFrame()\n",
    "    dfPlayerStats = pd.DataFrame()\n",
    "    \n",
    "    for league_id in listLeagues:\n",
    "\n",
    "        # Get total number of pages\n",
    "        jPlayers = api(f'players?league={league_id}&season={season_id}')\n",
    "\n",
    "        # Get total number of pages\n",
    "        pages = jPlayers['paging']['total']\n",
    "\n",
    "        # Get all pages\n",
    "        for page_id in range(pages):\n",
    "\n",
    "            # Get current page\n",
    "            jPlayers = api(f'players?league={league_id}&season={season_id}&page={page_id+1}')\n",
    "\n",
    "            # Get number of records\n",
    "            records = len(jPlayers['response'])\n",
    "\n",
    "            # Initialise empty data frames\n",
    "            dfPlayersTemp = pd.DataFrame()\n",
    "            dfPlayerStatsTemp = pd.DataFrame()\n",
    "\n",
    "            # Get all records\n",
    "            for record_id in range(records):\n",
    "\n",
    "                # Get current page of players\n",
    "                dfPlayersTemp = pd.json_normalize(jPlayers['response']).iloc[[record_id]].drop('statistics', axis=1)\n",
    "\n",
    "                # Get current page of players' statistics\n",
    "                dfPlayerStatsTemp = pd.json_normalize(pd.json_normalize(jPlayers['response'])\\\n",
    "                                                        .iloc[[record_id]]['statistics'].iloc[0])\n",
    "\n",
    "                # Add player_id, league_id and season_id\n",
    "                player_id = dfPlayersTemp['player.id'].iloc[0]\n",
    "                dfPlayerStatsTemp['player_id'] = player_id\n",
    "                dfPlayersTemp['league_id'] = league_id\n",
    "                dfPlayersTemp['season_id'] = season_id\n",
    "                dfPlayerStatsTemp['season_id'] = season_id\n",
    "\n",
    "                # Merge the current page to the result dataframe\n",
    "                dfPlayers = pd.concat([dfPlayers, dfPlayersTemp])\n",
    "                dfPlayerStats = pd.concat([dfPlayerStats, dfPlayerStatsTemp])\n",
    "\n",
    "                # Log\n",
    "                with open('log/players.log', 'a') as f:\n",
    "                    f.write(f'season_id = {season_id}, league_id = {league_id}, player_id = {player_id}, page_id = {page_id + 1}, pages = {pages}\\n')\n",
    "\n",
    "    # Rename columns\n",
    "    dfPlayers.columns = dfPlayers.columns.str.replace('.', '_')\n",
    "    dfPlayerStats.columns = dfPlayerStats.columns.str.replace('.', '_')\n",
    "\n",
    "    # Save into file\n",
    "    dfPlayers.to_csv('players_' + str(season_id) + '.csv',index=False)\n",
    "    dfPlayerStats.to_csv('player_stats_' + str(season_id) + '.csv',index=False)"
   ]
  },
  {
   "cell_type": "markdown",
   "id": "6a547d69",
   "metadata": {
    "jp-MarkdownHeadingCollapsed": true,
    "tags": []
   },
   "source": [
    "## Games"
   ]
  },
  {
   "cell_type": "code",
   "execution_count": 157,
   "id": "0fe0e271",
   "metadata": {},
   "outputs": [],
   "source": [
    "# jGames = api(f'fixtures/?league={league_id}&season={season_id}')"
   ]
  },
  {
   "cell_type": "code",
   "execution_count": 160,
   "id": "10992d62",
   "metadata": {},
   "outputs": [
    {
     "name": "stderr",
     "output_type": "stream",
     "text": [
      "/var/folders/hn/r6dxb61155x4z2mwg4dbmqtc0000gq/T/ipykernel_23302/2150249608.py:5: FutureWarning: The default value of regex will change from True to False in a future version. In addition, single character regular expressions will *not* be treated as literal strings when regex=True.\n",
      "  dfGames.columns = dfGames.columns.str.replace('.', '_')\n"
     ]
    }
   ],
   "source": [
    "# # Normalize\n",
    "# dfGames = pd.json_normalize(jGames['response'])\n",
    "\n",
    "# # Rename columns\n",
    "# dfGames.columns = dfGames.columns.str.replace('.', '_')\n",
    "\n",
    "# # Add leage and season\n",
    "# dfGames['league_id'] = league_id\n",
    "# dfGames['season_id'] = season_id\n",
    "\n",
    "# # Save into file\n",
    "# dfGames.to_csv('games.csv',index=False)"
   ]
  },
  {
   "cell_type": "markdown",
   "id": "0f856463-840f-481f-8583-6d67ad37ee28",
   "metadata": {
    "jp-MarkdownHeadingCollapsed": true,
    "tags": []
   },
   "source": [
    "## Game players statistics"
   ]
  },
  {
   "cell_type": "code",
   "execution_count": 161,
   "id": "97637656-19a0-4231-abfe-c22696ba7810",
   "metadata": {},
   "outputs": [],
   "source": [
    "# jGamePlayerStats = api(f'fixtures/players?fixture=710556')"
   ]
  },
  {
   "cell_type": "code",
   "execution_count": null,
   "id": "3207554c-4b5b-46a8-8c1d-5634c24fe90d",
   "metadata": {},
   "outputs": [],
   "source": [
    "# pd.json_normalize(pd.json_normalize(jGamePlayerStats['response'])['players'][0])"
   ]
  },
  {
   "cell_type": "markdown",
   "id": "a965952b",
   "metadata": {
    "jp-MarkdownHeadingCollapsed": true,
    "tags": []
   },
   "source": [
    "## Game statistics"
   ]
  },
  {
   "cell_type": "code",
   "execution_count": 11,
   "id": "f6228c4b",
   "metadata": {
    "tags": []
   },
   "outputs": [],
   "source": [
    "# jGameStat = api('fixtures?live=all')"
   ]
  },
  {
   "cell_type": "code",
   "execution_count": null,
   "id": "93a65700",
   "metadata": {
    "tags": []
   },
   "outputs": [],
   "source": [
    "# pd.json_normalize(jGameStat['response'])"
   ]
  },
  {
   "cell_type": "code",
   "execution_count": 48,
   "id": "832ef49f",
   "metadata": {},
   "outputs": [
    {
     "name": "stdout",
     "output_type": "stream",
     "text": [
      "Appended team 33\n",
      "Appended team 34\n",
      "Appended team 38\n",
      "Appended team 39\n",
      "Appended team 40\n",
      "Appended team 41\n",
      "Appended team 42\n",
      "Appended team 44\n",
      "Appended team 45\n",
      "Appended team 46\n",
      "Appended team 47\n",
      "Appended team 48\n",
      "Appended team 49\n",
      "Appended team 50\n",
      "Appended team 51\n",
      "Appended team 52\n",
      "Appended team 55\n",
      "Appended team 63\n",
      "Appended team 66\n",
      "Appended team 71\n"
     ]
    }
   ],
   "source": [
    "# # Initialise an empty data frame\n",
    "# dfSquads = pd.DataFrame()\n",
    "\n",
    "# # Get squads for all teams\n",
    "# for team_id in dfTeams['team_id']:\n",
    "\n",
    "#     # Run api\n",
    "#     jSquads = api(f'players/squads?team={team_id}')\n",
    "\n",
    "#     # Normalize\n",
    "#     dfSquadsTemp = pd.json_normalize(pd.json_normalize(jSquads['response'])['players'][0])\n",
    "    \n",
    "#     # Add team_id column\n",
    "#     dfSquadsTemp['team_id'] = team_id\n",
    "    \n",
    "#     # Append\n",
    "#     dfSquads = pd.concat([dfSquads, dfSquadsTemp])\n",
    "\n",
    "# # Save into file\n",
    "# dfSquads.to_csv('squads.csv',index=False)"
   ]
  },
  {
   "cell_type": "markdown",
   "id": "00f504d2",
   "metadata": {
    "jp-MarkdownHeadingCollapsed": true,
    "tags": []
   },
   "source": [
    "## Squads"
   ]
  },
  {
   "cell_type": "markdown",
   "id": "f262b1c2-f7ba-4e20-af1b-90b556b8b910",
   "metadata": {
    "jp-MarkdownHeadingCollapsed": true,
    "tags": []
   },
   "source": [
    "## Transfers"
   ]
  },
  {
   "cell_type": "code",
   "execution_count": 27,
   "id": "528d86dd-cf10-4c43-860c-0afa36602c6d",
   "metadata": {},
   "outputs": [],
   "source": [
    "# jTransfer = api('transfers?player=20355')"
   ]
  },
  {
   "cell_type": "code",
   "execution_count": 29,
   "id": "1de63775-73c3-4f80-bf03-143f07a97c4e",
   "metadata": {},
   "outputs": [
    {
     "data": {
      "text/html": [
       "<div>\n",
       "<style scoped>\n",
       "    .dataframe tbody tr th:only-of-type {\n",
       "        vertical-align: middle;\n",
       "    }\n",
       "\n",
       "    .dataframe tbody tr th {\n",
       "        vertical-align: top;\n",
       "    }\n",
       "\n",
       "    .dataframe thead th {\n",
       "        text-align: right;\n",
       "    }\n",
       "</style>\n",
       "<table border=\"1\" class=\"dataframe\">\n",
       "  <thead>\n",
       "    <tr style=\"text-align: right;\">\n",
       "      <th></th>\n",
       "      <th>update</th>\n",
       "      <th>transfers</th>\n",
       "      <th>player.id</th>\n",
       "      <th>player.name</th>\n",
       "    </tr>\n",
       "  </thead>\n",
       "  <tbody>\n",
       "    <tr>\n",
       "      <th>0</th>\n",
       "      <td>2023-04-03T06:24:08+00:00</td>\n",
       "      <td>[{'date': '2021-08-20', 'type': '€ 28M', 'team...</td>\n",
       "      <td>20355</td>\n",
       "      <td>A. Ramsdale</td>\n",
       "    </tr>\n",
       "  </tbody>\n",
       "</table>\n",
       "</div>"
      ],
      "text/plain": [
       "                      update  \\\n",
       "0  2023-04-03T06:24:08+00:00   \n",
       "\n",
       "                                           transfers  player.id  player.name  \n",
       "0  [{'date': '2021-08-20', 'type': '€ 28M', 'team...      20355  A. Ramsdale  "
      ]
     },
     "execution_count": 29,
     "metadata": {},
     "output_type": "execute_result"
    }
   ],
   "source": [
    "# pd.json_normalize(jTransfer['response'])"
   ]
  },
  {
   "cell_type": "code",
   "execution_count": null,
   "id": "05c38920-ac66-4dd7-9871-dfef1938c150",
   "metadata": {},
   "outputs": [],
   "source": []
  },
  {
   "cell_type": "code",
   "execution_count": null,
   "id": "d52460b6-ec8f-4ce8-bb0f-b65d0e30e280",
   "metadata": {},
   "outputs": [],
   "source": []
  },
  {
   "cell_type": "markdown",
   "id": "77ac9dbb-b915-4532-a943-da570c0849b0",
   "metadata": {
    "tags": []
   },
   "source": [
    "# Other"
   ]
  },
  {
   "cell_type": "code",
   "execution_count": null,
   "id": "be28440c-d2a5-47a6-883a-4bc903d279e8",
   "metadata": {},
   "outputs": [],
   "source": [
    "url = 'https://api-football-v1.p.rapidapi.com/v3/' + param\n",
    "\n",
    "# Authentication\n",
    "headers = {\n",
    "    \"X-RapidAPI-Key\": key,\n",
    "    \"X-RapidAPI-Host\": \"api-football-v1.p.rapidapi.com\"\n",
    "}\n",
    "\n",
    "response = requests.request(\"GET\", url, headers=headers)"
   ]
  },
  {
   "cell_type": "code",
   "execution_count": null,
   "id": "28032ef9-a553-40fc-b710-59b8c15e6202",
   "metadata": {},
   "outputs": [],
   "source": [
    "url = \"https://transfermarket.p.rapidapi.com/search\"\n",
    "\n",
    "querystring = {\"query\":\"chelsea\",\"domain\":\"de\"}\n",
    "\n",
    "headers = {\n",
    "    \"X-RapidAPI-Key\": key,\n",
    "    \"X-RapidAPI-Host\": \"transfermarket.p.rapidapi.com\"\n",
    "}\n",
    "\n",
    "response = requests.request(\"GET\", url, headers=headers, params=querystring)"
   ]
  },
  {
   "cell_type": "code",
   "execution_count": 31,
   "id": "7c3b02d6-0ede-4612-aac6-2f4b5b2d0fe4",
   "metadata": {},
   "outputs": [
    {
     "name": "stdout",
     "output_type": "stream",
     "text": [
      "2012\n",
      "2013\n",
      "2014\n",
      "2015\n",
      "2016\n",
      "2017\n",
      "2018\n",
      "2019\n",
      "2020\n",
      "2021\n"
     ]
    }
   ],
   "source": [
    "open('log/season.log', 'w').close()\n",
    "\n",
    "for season_id in range(season_start_id, 2022):\n",
    "\n",
    "        # Debug\n",
    "        print(season_id)\n",
    "        with open('log/season.log', 'a') as f:\n",
    "            f.write(f'season id = {season_id}\\n')"
   ]
  },
  {
   "cell_type": "code",
   "execution_count": null,
   "id": "a09c7adf-6109-4f9f-bc80-e93d95d5c659",
   "metadata": {},
   "outputs": [],
   "source": []
  }
 ],
 "metadata": {
  "kernelspec": {
   "display_name": "Python 3 (ipykernel)",
   "language": "python",
   "name": "python3"
  },
  "language_info": {
   "codemirror_mode": {
    "name": "ipython",
    "version": 3
   },
   "file_extension": ".py",
   "mimetype": "text/x-python",
   "name": "python",
   "nbconvert_exporter": "python",
   "pygments_lexer": "ipython3",
   "version": "3.9.13"
  },
  "toc-autonumbering": true,
  "toc-showcode": true,
  "toc-showmarkdowntxt": false
 },
 "nbformat": 4,
 "nbformat_minor": 5
}
